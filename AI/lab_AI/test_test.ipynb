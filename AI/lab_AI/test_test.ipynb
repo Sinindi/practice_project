{
 "cells": [
  {
   "cell_type": "code",
   "execution_count": 12,
   "id": "97e45a06",
   "metadata": {},
   "outputs": [],
   "source": [
    "import os\n",
    "import sys\n",
    "from keras.preprocessing import image\n",
    "import numpy as np\n",
    "import re\n",
    "from PIL import Image\n",
    "\n",
    "current_path = os.path.abspath('')\n",
    "image_path = os.path.join(current_path, \"test_img\")\n",
    "input_img_path = os.path.join(current_path, \"input_img\")\n",
    "target_img_path = os.path.join(current_path, \"target_img\")\n",
    "\n",
    "\n",
    "\"\"\"\n",
    "이미지를 재단하는 함수\n",
    "입력용 회색이미지, 출력용 색상이미지 재단\n",
    "\"\"\"\n",
    "def crop_img(image_path):\n",
    "    \n",
    "    \n",
    "    files = os.listdir(image_path)\n",
    "    select = re.compile(\"([a-zA-Z0-9_\\s\\.]+(?=\\_pic))\")   \n",
    "   \n",
    "    for file in files:\n",
    "        if select.match(str(file)) != None:\n",
    "            name = str(file)\n",
    "            os.chdir(image_path)\n",
    "            img = Image.open(file)\n",
    "\n",
    "            img = img.crop([136, 112, 917, 823])\n",
    "\n",
    "            os.chdir(input_img_path)\n",
    "            img.save(name, \"PNG\")\n",
    "            os.chdir('..')\n",
    "        else:\n",
    "            name = str(file)\n",
    "            os.chdir(image_path)\n",
    "            img = Image.open(file)\n",
    "\n",
    "            img = img.crop([136, 112, 917, 823])\n",
    "\n",
    "            os.chdir(target_img_path)\n",
    "            img.save(name, \"PNG\")\n",
    "            os.chdir('..')\n",
    "\n",
    "crop_img(image_path)"
   ]
  },
  {
   "cell_type": "code",
   "execution_count": 13,
   "id": "e62b9cd2",
   "metadata": {},
   "outputs": [],
   "source": [
    "\"\"\"\n",
    "회색이미지를 흑백이미지로 변환하는 함수\n",
    "\n",
    "\"\"\"\n",
    "import os\n",
    "import cv2\n",
    "current_path = os.path.abspath('')\n",
    "binary_img_path = os.path.join(current_path,\"binary\")\n",
    "modified_path = os.path.join(current_path, \"input_img\")\n",
    "def img_preprocessing_binary(image_path):\n",
    "    files = os.listdir(image_path)\n",
    "    for file in files:\n",
    "        os.chdir(image_path)\n",
    "        img_color  = cv2.imread(file, cv2.IMREAD_COLOR)\n",
    "        img_gray = cv2.cvtColor(img_color, cv2.COLOR_BGR2GRAY)\n",
    "        ret, img_binary = cv2.threshold(img_gray, 212, 255, cv2.THRESH_BINARY)\n",
    "        os.chdir(binary_img_path)\n",
    "        cv2.imwrite(str(file),img_binary)\n",
    "        os.chdir('..')\n",
    "        #경로 초기화\n",
    "\n",
    "            \n",
    "\n",
    "\n",
    "        \n",
    "img_preprocessing_binary(modified_path)"
   ]
  },
  {
   "cell_type": "code",
   "execution_count": 14,
   "id": "f50db496",
   "metadata": {},
   "outputs": [],
   "source": [
    "\"\"\"\n",
    "전처리 후 npy파일로 저장하기위한 코드\n",
    "test_1 행렬 형태 [인덱스, in_height, in_width, color, Rey, target_1dimension]\n",
    "입력은 이미지 형태로 CNN 모델을 지나고 출력은 1차원 행렬\n",
    "1차원 행렬을 reshape를 이용하여 변형하여 이미지로 출력하는게 목표\n",
    "xtrain,xtest,xvalid,xvalid_test,ytrain,ytest 형태로 이용될 예정\n",
    "일단 사이즈는 강제로 256,256으로 변환시키는 방식\n",
    "\"\"\"\n",
    "import numpy as np\n",
    "import re\n",
    "import os\n",
    "from PIL import Image\n",
    "from keras.preprocessing.image import img_to_array\n",
    "current_path = os.path.abspath('')\n",
    "input_img_path = os.path.join(current_path,\"binary\")\n",
    "target_img_path = os.path.join(current_path,\"target_img\")\n",
    "input_files = os.listdir(input_img_path)\n",
    "target_files = os.listdir(target_img_path)\n",
    "datasets = []\n",
    "i = 0\n",
    "\n",
    "for input_file, target_file in zip(input_files, target_files):\n",
    "    dataset= []\n",
    "    input_pro = []\n",
    "    name = str(input_file)\n",
    "    #레이놀즈 수 파일 이름에서 추출\n",
    "    R = float(name[5]+\".\"+name[6])*10**int(name[7])/10**6\n",
    "    #인풋 이미지 파일 경로로 들어가서 인풋 이미지 전처리 과정\n",
    "    os.chdir(input_img_path)\n",
    "    input_img = Image.open(input_file)\n",
    "    #이미지 리사이징\n",
    "    input_img = input_img.resize((256, 256))\n",
    "    #이미지 nunpy배열로 변환\n",
    "    input_img_tensor = img_to_array(input_img)\n",
    "    input_img_tensor = input_img_tensor.reshape(65536).astype('float64')/ 255\n",
    "    #타겟 이미지 파일 경로로 들어가서 전처리 과정\n",
    "    os.chdir(target_img_path)\n",
    "    target_img = Image.open(target_file)\n",
    "    target_img = target_img.resize((256,256))\n",
    "    #타겟 이미지는 1차원 배열로 생성\n",
    "    target_img_tensor = img_to_array(target_img)\n",
    "    target_img_tensor = target_img_tensor.reshape(196608).astype('float64')/ 255\n",
    "    dataset.append(input_img_tensor)\n",
    "    dataset.append(R)\n",
    "    dataset.append(target_img_tensor)\n",
    "    datasets.insert(i,dataset)\n",
    "    i += 1\n",
    "    os.chdir('..')\n",
    "datasets = np.array(datasets, dtype = 'object')\n",
    "np.save(\"test.npy\", datasets)"
   ]
  },
  {
   "cell_type": "code",
   "execution_count": 15,
   "id": "e6b8ce54",
   "metadata": {},
   "outputs": [
    {
     "name": "stdout",
     "output_type": "stream",
     "text": [
      "(638, 3)\n"
     ]
    }
   ],
   "source": [
    "print(datasets.shape)"
   ]
  },
  {
   "cell_type": "code",
   "execution_count": null,
   "id": "297bec6f",
   "metadata": {},
   "outputs": [],
   "source": []
  },
  {
   "cell_type": "code",
   "execution_count": 47,
   "id": "abbadca5",
   "metadata": {},
   "outputs": [],
   "source": []
  },
  {
   "cell_type": "code",
   "execution_count": 7,
   "id": "e86f0f4a",
   "metadata": {},
   "outputs": [],
   "source": [
    "os.chdir(\"..\")"
   ]
  }
 ],
 "metadata": {
  "kernelspec": {
   "display_name": "Python 3 (ipykernel)",
   "language": "python",
   "name": "python3"
  },
  "language_info": {
   "codemirror_mode": {
    "name": "ipython",
    "version": 3
   },
   "file_extension": ".py",
   "mimetype": "text/x-python",
   "name": "python",
   "nbconvert_exporter": "python",
   "pygments_lexer": "ipython3",
   "version": "3.9.7"
  }
 },
 "nbformat": 4,
 "nbformat_minor": 5
}
