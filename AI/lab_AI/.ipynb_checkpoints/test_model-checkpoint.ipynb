{
 "cells": [
  {
   "cell_type": "code",
   "execution_count": 1,
   "id": "007f9f44",
   "metadata": {},
   "outputs": [],
   "source": [
    "import tensorflow as tf\n",
    "from tensorflow import keras\n",
    "from tensorflow.keras import layers\n",
    "import numpy as np\n",
    "from matplotlib import pyplot as plt\n",
    "from sklearn import metrics\n",
    "import seaborn as sns\n",
    "import pandas as pd \n",
    "from sklearn.model_selection import train_test_split\n",
    "import xgboost\n",
    "sns.set(font_scale=1.7)\n",
    "import warnings\n",
    "warnings.filterwarnings('ignore')"
   ]
  },
  {
   "cell_type": "code",
   "execution_count": 6,
   "id": "cbc17e0e",
   "metadata": {},
   "outputs": [
    {
     "data": {
      "text/html": [
       "<div>\n",
       "<style scoped>\n",
       "    .dataframe tbody tr th:only-of-type {\n",
       "        vertical-align: middle;\n",
       "    }\n",
       "\n",
       "    .dataframe tbody tr th {\n",
       "        vertical-align: top;\n",
       "    }\n",
       "\n",
       "    .dataframe thead th {\n",
       "        text-align: right;\n",
       "    }\n",
       "</style>\n",
       "<table border=\"1\" class=\"dataframe\">\n",
       "  <thead>\n",
       "    <tr style=\"text-align: right;\">\n",
       "      <th></th>\n",
       "      <th>id</th>\n",
       "      <th>Time</th>\n",
       "      <th>S1</th>\n",
       "      <th>S2</th>\n",
       "      <th>S3</th>\n",
       "      <th>S4</th>\n",
       "    </tr>\n",
       "  </thead>\n",
       "  <tbody>\n",
       "    <tr>\n",
       "      <th>0</th>\n",
       "      <td>0</td>\n",
       "      <td>0.000000</td>\n",
       "      <td>0.00</td>\n",
       "      <td>0.0</td>\n",
       "      <td>0.00</td>\n",
       "      <td>0.00</td>\n",
       "    </tr>\n",
       "    <tr>\n",
       "      <th>1</th>\n",
       "      <td>0</td>\n",
       "      <td>0.000004</td>\n",
       "      <td>0.00</td>\n",
       "      <td>0.0</td>\n",
       "      <td>0.00</td>\n",
       "      <td>0.00</td>\n",
       "    </tr>\n",
       "    <tr>\n",
       "      <th>2</th>\n",
       "      <td>0</td>\n",
       "      <td>0.000008</td>\n",
       "      <td>0.00</td>\n",
       "      <td>0.0</td>\n",
       "      <td>0.00</td>\n",
       "      <td>0.00</td>\n",
       "    </tr>\n",
       "    <tr>\n",
       "      <th>3</th>\n",
       "      <td>0</td>\n",
       "      <td>0.000012</td>\n",
       "      <td>0.00</td>\n",
       "      <td>0.0</td>\n",
       "      <td>0.00</td>\n",
       "      <td>0.00</td>\n",
       "    </tr>\n",
       "    <tr>\n",
       "      <th>4</th>\n",
       "      <td>0</td>\n",
       "      <td>0.000016</td>\n",
       "      <td>0.00</td>\n",
       "      <td>0.0</td>\n",
       "      <td>0.00</td>\n",
       "      <td>0.00</td>\n",
       "    </tr>\n",
       "    <tr>\n",
       "      <th>...</th>\n",
       "      <td>...</td>\n",
       "      <td>...</td>\n",
       "      <td>...</td>\n",
       "      <td>...</td>\n",
       "      <td>...</td>\n",
       "      <td>...</td>\n",
       "    </tr>\n",
       "    <tr>\n",
       "      <th>1049995</th>\n",
       "      <td>2799</td>\n",
       "      <td>0.001480</td>\n",
       "      <td>-89256.32</td>\n",
       "      <td>-164614.6</td>\n",
       "      <td>48186.29</td>\n",
       "      <td>-147910.20</td>\n",
       "    </tr>\n",
       "    <tr>\n",
       "      <th>1049996</th>\n",
       "      <td>2799</td>\n",
       "      <td>0.001484</td>\n",
       "      <td>-29233.44</td>\n",
       "      <td>-179404.2</td>\n",
       "      <td>109534.40</td>\n",
       "      <td>-111591.10</td>\n",
       "    </tr>\n",
       "    <tr>\n",
       "      <th>1049997</th>\n",
       "      <td>2799</td>\n",
       "      <td>0.001488</td>\n",
       "      <td>37147.25</td>\n",
       "      <td>-190011.7</td>\n",
       "      <td>178781.10</td>\n",
       "      <td>-86836.78</td>\n",
       "    </tr>\n",
       "    <tr>\n",
       "      <th>1049998</th>\n",
       "      <td>2799</td>\n",
       "      <td>0.001492</td>\n",
       "      <td>98278.50</td>\n",
       "      <td>-190771.4</td>\n",
       "      <td>245726.70</td>\n",
       "      <td>-75660.00</td>\n",
       "    </tr>\n",
       "    <tr>\n",
       "      <th>1049999</th>\n",
       "      <td>2799</td>\n",
       "      <td>0.001496</td>\n",
       "      <td>151683.00</td>\n",
       "      <td>-177267.3</td>\n",
       "      <td>307932.80</td>\n",
       "      <td>-72835.82</td>\n",
       "    </tr>\n",
       "  </tbody>\n",
       "</table>\n",
       "<p>1050000 rows × 6 columns</p>\n",
       "</div>"
      ],
      "text/plain": [
       "           id      Time         S1        S2         S3         S4\n",
       "0           0  0.000000       0.00       0.0       0.00       0.00\n",
       "1           0  0.000004       0.00       0.0       0.00       0.00\n",
       "2           0  0.000008       0.00       0.0       0.00       0.00\n",
       "3           0  0.000012       0.00       0.0       0.00       0.00\n",
       "4           0  0.000016       0.00       0.0       0.00       0.00\n",
       "...       ...       ...        ...       ...        ...        ...\n",
       "1049995  2799  0.001480  -89256.32 -164614.6   48186.29 -147910.20\n",
       "1049996  2799  0.001484  -29233.44 -179404.2  109534.40 -111591.10\n",
       "1049997  2799  0.001488   37147.25 -190011.7  178781.10  -86836.78\n",
       "1049998  2799  0.001492   98278.50 -190771.4  245726.70  -75660.00\n",
       "1049999  2799  0.001496  151683.00 -177267.3  307932.80  -72835.82\n",
       "\n",
       "[1050000 rows x 6 columns]"
      ]
     },
     "execution_count": 6,
     "metadata": {},
     "output_type": "execute_result"
    }
   ],
   "source": [
    "X_train = pd.read_csv('C:/Users/UK_W/Desktop/python/vibration/train_features.csv')\n",
    "Y_train = pd.read_csv('C:/Users/UK_W/Desktop/python/vibration/train_target.csv')\n",
    "X_train"
   ]
  },
  {
   "cell_type": "code",
   "execution_count": 27,
   "id": "3dcf5ab2",
   "metadata": {},
   "outputs": [],
   "source": [
    "X_tr, X_vid, Y_tr, Y_vid = train_test_split(X_train3, Y_train, test_size=0.3, random_state=2018,)"
   ]
  },
  {
   "cell_type": "code",
   "execution_count": null,
   "id": "de13dafc",
   "metadata": {},
   "outputs": [],
   "source": [
    "def ResNetBlock(x, nf, strides):\n",
    "    \n",
    "    shortcut = x\n",
    "    \n",
    "    x = layers.Conv1D(nf, 3, padding = 'same', strides = strides)(x)\n",
    "#    x = tf.keras.layers.BatchNormalization()(x)\n",
    "    x = tf.keras.layers.ELU()(x)\n",
    "    x = layers.Conv1D(nf, 3, padding = 'same', strides = 1)(x)\n",
    "#    x = tf.keras.layers.BatchNormalization()(x)\n",
    "    \n",
    "    if strides != 1:\n",
    "        shortcut = layers.Conv1D(nf, 1, strides = strides)(shortcut)\n",
    "#        shortcut = tf.keras.layers.BatchNormalization()(shortcut)\n",
    "        \n",
    "    x = layers.add([x, shortcut])\n",
    "    x = tf.keras.layers.ELU()(x)\n",
    "    return x \n",
    "\n",
    "def DenseBlock(x, nodes):\n",
    "    \n",
    "    shortcut = x\n",
    "    \n",
    "    x = tf.keras.layers.Dense(nodes, activation = 'elu')(x)\n",
    "    x = tf.keras.layers.Dense(nodes, activation = 'elu')(x)\n",
    "    x = layers.add([x, shortcut])\n",
    "    return x "
   ]
  },
  {
   "cell_type": "code",
   "execution_count": 20,
   "id": "ed0503f0",
   "metadata": {},
   "outputs": [
    {
     "name": "stdout",
     "output_type": "stream",
     "text": [
      "Model: \"resnet\"\n",
      "_________________________________________________________________\n",
      "Layer (type)                 Output Shape              Param #   \n",
      "=================================================================\n",
      "input (InputLayer)           [(None, 256, 256, 2)]     0         \n",
      "_________________________________________________________________\n",
      "conv2d_82 (Conv2D)           (None, 256, 256, 16)      304       \n",
      "_________________________________________________________________\n",
      "max_pooling2d_77 (MaxPooling (None, 128, 128, 16)      0         \n",
      "_________________________________________________________________\n",
      "conv2d_83 (Conv2D)           (None, 128, 128, 32)      4640      \n",
      "_________________________________________________________________\n",
      "max_pooling2d_78 (MaxPooling (None, 64, 64, 32)        0         \n",
      "_________________________________________________________________\n",
      "conv2d_84 (Conv2D)           (None, 64, 64, 64)        18496     \n",
      "_________________________________________________________________\n",
      "max_pooling2d_79 (MaxPooling (None, 32, 32, 64)        0         \n",
      "_________________________________________________________________\n",
      "conv2d_85 (Conv2D)           (None, 32, 32, 128)       73856     \n",
      "_________________________________________________________________\n",
      "max_pooling2d_80 (MaxPooling (None, 16, 16, 128)       0         \n",
      "_________________________________________________________________\n",
      "conv2d_86 (Conv2D)           (None, 16, 16, 256)       295168    \n",
      "_________________________________________________________________\n",
      "max_pooling2d_81 (MaxPooling (None, 8, 8, 256)         0         \n",
      "_________________________________________________________________\n",
      "conv2d_87 (Conv2D)           (None, 8, 8, 512)         1180160   \n",
      "_________________________________________________________________\n",
      "conv2d_transpose_10 (Conv2DT (None, 8, 8, 256)         1179904   \n",
      "_________________________________________________________________\n",
      "up_sampling2d_9 (UpSampling2 (None, 16, 16, 256)       0         \n",
      "_________________________________________________________________\n",
      "conv2d_transpose_11 (Conv2DT (None, 16, 16, 128)       295040    \n",
      "_________________________________________________________________\n",
      "up_sampling2d_10 (UpSampling (None, 32, 32, 128)       0         \n",
      "_________________________________________________________________\n",
      "conv2d_transpose_12 (Conv2DT (None, 32, 32, 64)        73792     \n",
      "_________________________________________________________________\n",
      "up_sampling2d_11 (UpSampling (None, 64, 64, 64)        0         \n",
      "_________________________________________________________________\n",
      "conv2d_transpose_13 (Conv2DT (None, 64, 64, 32)        18464     \n",
      "_________________________________________________________________\n",
      "up_sampling2d_12 (UpSampling (None, 128, 128, 32)      0         \n",
      "_________________________________________________________________\n",
      "conv2d_transpose_14 (Conv2DT (None, 128, 128, 3)       867       \n",
      "_________________________________________________________________\n",
      "up_sampling2d_13 (UpSampling (None, 256, 256, 3)       0         \n",
      "=================================================================\n",
      "Total params: 3,140,691\n",
      "Trainable params: 3,140,691\n",
      "Non-trainable params: 0\n",
      "_________________________________________________________________\n"
     ]
    }
   ],
   "source": [
    "#Model\n",
    "tf.random.set_seed(44)\n",
    "\n",
    "inputs = keras.Input(shape = (256,256,2), name = 'input')\n",
    "\n",
    "x = layers.Conv2D(16, 3, activation = 'elu', padding = 'same')(inputs)\n",
    "#x = tf.keras.layers.BatchNormalization()(x)\n",
    "x = tf.keras.layers.MaxPool2D(pool_size=(2))(x)\n",
    "\n",
    "x = layers.Conv2D(32, 3, activation = 'elu', padding = 'same')(x)\n",
    "#x = tf.keras.layers.BatchNormalization()(x)\n",
    "x = tf.keras.layers.MaxPool2D(pool_size=(2))(x)\n",
    "\n",
    "x = layers.Conv2D(64, 3, activation = 'elu', padding = 'same')(x)\n",
    "#x = tf.keras.layers.BatchNormalization()(x)\n",
    "x = tf.keras.layers.MaxPool2D(pool_size=(2))(x)\n",
    "\n",
    "x = layers.Conv2D(128, 3, activation = 'elu', padding = 'same')(x)\n",
    "#x = tf.keras.layers.BatchNormalization()(x)\n",
    "x = tf.keras.layers.MaxPool2D(pool_size=(2))(x)\n",
    "\n",
    "x = layers.Conv2D(256, 3, activation = 'elu', padding = 'same')(x)\n",
    "#x = tf.keras.layers.BatchNormalization()(x)\n",
    "x = tf.keras.layers.MaxPool2D(pool_size=(2))(x)\n",
    "\n",
    "x = layers.Conv2D(512, 3, activation = 'elu', padding = 'same')(x)\n",
    "\n",
    "x = layers.Conv2DTranspose(256, 3, activation = 'elu', padding = 'same')(x)\n",
    "x = layers.UpSampling2D((2,2))(x)\n",
    "\n",
    "x = layers.Conv2DTranspose(128, 3, activation = 'elu', padding = 'same')(x)\n",
    "x = layers.UpSampling2D((2,2))(x)\n",
    "\n",
    "x = layers.Conv2DTranspose(64, 3, activation = 'elu', padding = 'same')(x)\n",
    "x = layers.UpSampling2D((2,2))(x)\n",
    "\n",
    "x = layers.Conv2DTranspose(32, 3, activation = 'elu', padding = 'same')(x)\n",
    "x = layers.UpSampling2D((2,2))(x)\n",
    "\n",
    "x = layers.Conv2DTranspose(3, 3, activation = 'elu', padding = 'same')(x)\n",
    "x = layers.UpSampling2D((2,2))(x)\n",
    "\n",
    "#outputs = layers.Dense(1)(x)\n",
    "\n",
    "model = keras.Model(inputs, x, name = 'resnet')\n",
    "\n",
    "model.compile(optimizer=tf.keras.optimizers.Adam(learning_rate=0.0012, decay = 0.013),loss='mse', metrics=['mae'])\n",
    "\n",
    "#hist = model.fit(X_tr,Y_tr['M'],epochs=500, validation_data=(X_vid, Y_vid['M']), batch_size=32, callbacks = [callbacks,checkpoint])\n",
    "#model.load_weights(modelpath)\n",
    "\n",
    "model.summary()"
   ]
  },
  {
   "cell_type": "code",
   "execution_count": 23,
   "id": "b4b31299",
   "metadata": {},
   "outputs": [
    {
     "name": "stdout",
     "output_type": "stream",
     "text": [
      "Model: \"resnet\"\n",
      "__________________________________________________________________________________________________\n",
      "Layer (type)                    Output Shape         Param #     Connected to                     \n",
      "==================================================================================================\n",
      "input (InputLayer)              [(None, 256, 256, 2) 0                                            \n",
      "__________________________________________________________________________________________________\n",
      "conv2d_100 (Conv2D)             (None, 256, 256, 16) 304         input[0][0]                      \n",
      "__________________________________________________________________________________________________\n",
      "max_pooling2d_92 (MaxPooling2D) (None, 128, 128, 16) 0           conv2d_100[0][0]                 \n",
      "__________________________________________________________________________________________________\n",
      "conv2d_101 (Conv2D)             (None, 128, 128, 32) 4640        max_pooling2d_92[0][0]           \n",
      "__________________________________________________________________________________________________\n",
      "max_pooling2d_93 (MaxPooling2D) (None, 64, 64, 32)   0           conv2d_101[0][0]                 \n",
      "__________________________________________________________________________________________________\n",
      "conv2d_102 (Conv2D)             (None, 64, 64, 64)   18496       max_pooling2d_93[0][0]           \n",
      "__________________________________________________________________________________________________\n",
      "max_pooling2d_94 (MaxPooling2D) (None, 32, 32, 64)   0           conv2d_102[0][0]                 \n",
      "__________________________________________________________________________________________________\n",
      "conv2d_103 (Conv2D)             (None, 32, 32, 128)  73856       max_pooling2d_94[0][0]           \n",
      "__________________________________________________________________________________________________\n",
      "max_pooling2d_95 (MaxPooling2D) (None, 16, 16, 128)  0           conv2d_103[0][0]                 \n",
      "__________________________________________________________________________________________________\n",
      "conv2d_104 (Conv2D)             (None, 16, 16, 256)  295168      max_pooling2d_95[0][0]           \n",
      "__________________________________________________________________________________________________\n",
      "max_pooling2d_96 (MaxPooling2D) (None, 8, 8, 256)    0           conv2d_104[0][0]                 \n",
      "__________________________________________________________________________________________________\n",
      "conv2d_105 (Conv2D)             (None, 8, 8, 512)    1180160     max_pooling2d_96[0][0]           \n",
      "__________________________________________________________________________________________________\n",
      "conv2d_transpose_21 (Conv2DTran (None, 8, 8, 256)    1179904     conv2d_105[0][0]                 \n",
      "__________________________________________________________________________________________________\n",
      "up_sampling2d_20 (UpSampling2D) (None, 16, 16, 256)  0           conv2d_transpose_21[0][0]        \n",
      "__________________________________________________________________________________________________\n",
      "conv2d_transpose_22 (Conv2DTran (None, 16, 16, 128)  295040      up_sampling2d_20[0][0]           \n",
      "__________________________________________________________________________________________________\n",
      "up_sampling2d_21 (UpSampling2D) (None, 32, 32, 128)  0           conv2d_transpose_22[0][0]        \n",
      "__________________________________________________________________________________________________\n",
      "add_20 (Add)                    (None, 32, 32, 128)  0           up_sampling2d_21[0][0]           \n",
      "                                                                 conv2d_103[0][0]                 \n",
      "__________________________________________________________________________________________________\n",
      "conv2d_transpose_23 (Conv2DTran (None, 32, 32, 64)   73792       add_20[0][0]                     \n",
      "__________________________________________________________________________________________________\n",
      "up_sampling2d_22 (UpSampling2D) (None, 64, 64, 64)   0           conv2d_transpose_23[0][0]        \n",
      "__________________________________________________________________________________________________\n",
      "add_21 (Add)                    (None, 64, 64, 64)   0           up_sampling2d_22[0][0]           \n",
      "                                                                 conv2d_102[0][0]                 \n",
      "__________________________________________________________________________________________________\n",
      "conv2d_transpose_24 (Conv2DTran (None, 64, 64, 32)   18464       add_21[0][0]                     \n",
      "__________________________________________________________________________________________________\n",
      "up_sampling2d_23 (UpSampling2D) (None, 128, 128, 32) 0           conv2d_transpose_24[0][0]        \n",
      "__________________________________________________________________________________________________\n",
      "add_22 (Add)                    (None, 128, 128, 32) 0           up_sampling2d_23[0][0]           \n",
      "                                                                 conv2d_101[0][0]                 \n",
      "__________________________________________________________________________________________________\n",
      "conv2d_transpose_25 (Conv2DTran (None, 128, 128, 3)  867         add_22[0][0]                     \n",
      "__________________________________________________________________________________________________\n",
      "up_sampling2d_24 (UpSampling2D) (None, 256, 256, 3)  0           conv2d_transpose_25[0][0]        \n",
      "==================================================================================================\n",
      "Total params: 3,140,691\n",
      "Trainable params: 3,140,691\n",
      "Non-trainable params: 0\n",
      "__________________________________________________________________________________________________\n"
     ]
    }
   ],
   "source": [
    "#Model U-net\n",
    "tf.random.set_seed(44)\n",
    "\n",
    "inputs = keras.Input(shape = (256,256,2), name = 'input')\n",
    "\n",
    "x = layers.Conv2D(16, 3, activation = 'elu', padding = 'same')(inputs)\n",
    "#x = tf.keras.layers.BatchNormalization()(x)\n",
    "x = tf.keras.layers.MaxPool2D(pool_size=(2))(x)\n",
    "\n",
    "x = layers.Conv2D(32, 3, activation = 'elu', padding = 'same')(x)\n",
    "skip1 = x\n",
    "#x = tf.keras.layers.BatchNormalization()(x)\n",
    "x = tf.keras.layers.MaxPool2D(pool_size=(2))(x)\n",
    "\n",
    "x = layers.Conv2D(64, 3, activation = 'elu', padding = 'same')(x)\n",
    "skip2 = x\n",
    "#x = tf.keras.layers.BatchNormalization()(x)\n",
    "x = tf.keras.layers.MaxPool2D(pool_size=(2))(x)\n",
    "\n",
    "x = layers.Conv2D(128, 3, activation = 'elu', padding = 'same')(x)\n",
    "skip3 = x\n",
    "#x = tf.keras.layers.BatchNormalization()(x)\n",
    "x = tf.keras.layers.MaxPool2D(pool_size=(2))(x)\n",
    "\n",
    "x = layers.Conv2D(256, 3, activation = 'elu', padding = 'same')(x)\n",
    "#x = tf.keras.layers.BatchNormalization()(x)\n",
    "x = tf.keras.layers.MaxPool2D(pool_size=(2))(x)\n",
    "\n",
    "x = layers.Conv2D(512, 3, activation = 'elu', padding = 'same')(x)\n",
    "\n",
    "x = layers.Conv2DTranspose(256, 3, activation = 'elu', padding = 'same')(x)\n",
    "x = layers.UpSampling2D((2,2))(x)\n",
    "\n",
    "x = layers.Conv2DTranspose(128, 3, activation = 'elu', padding = 'same')(x)\n",
    "x = layers.UpSampling2D((2,2))(x)\n",
    "x = layers.add([x, skip3])\n",
    "\n",
    "x = layers.Conv2DTranspose(64, 3, activation = 'elu', padding = 'same')(x)\n",
    "x = layers.UpSampling2D((2,2))(x)\n",
    "x = layers.add([x, skip2])\n",
    "\n",
    "x = layers.Conv2DTranspose(32, 3, activation = 'elu', padding = 'same')(x)\n",
    "x = layers.UpSampling2D((2,2))(x)\n",
    "x = layers.add([x, skip1])\n",
    "\n",
    "output = layers.Conv2DTranspose(3, 3, activation = 'elu', padding = 'same')(x)\n",
    "\n",
    "#outputs = layers.Dense(1)(x)\n",
    "\n",
    "model = keras.Model(inputs, output, name = 'unet')\n",
    "\n",
    "model.compile(optimizer=tf.keras.optimizers.Adam(learning_rate=0.0012, decay = 0.013),loss='mse', metrics=['mae'])\n",
    "\n",
    "#hist = model.fit(X_tr,Y_tr['M'],epochs=500, validation_data=(X_vid, Y_vid['M']), batch_size=32)\n",
    "\n",
    "model.summary()"
   ]
  },
  {
   "cell_type": "code",
   "execution_count": 32,
   "id": "2667a3dd",
   "metadata": {},
   "outputs": [
    {
     "name": "stdout",
     "output_type": "stream",
     "text": [
      "27/27 [==============================] - 0s 4ms/step - loss: 0.8955 - mae: 0.4447\n"
     ]
    },
    {
     "data": {
      "text/plain": [
       "[0.89546799659729, 0.44466617703437805]"
      ]
     },
     "execution_count": 32,
     "metadata": {},
     "output_type": "execute_result"
    }
   ],
   "source": [
    "model.evaluate(X_vid,Y_vid['M'])"
   ]
  },
  {
   "cell_type": "code",
   "execution_count": 24,
   "id": "ef51b01b",
   "metadata": {},
   "outputs": [
    {
     "data": {
      "text/plain": [
       "<function matplotlib.pyplot.imshow(X, cmap=None, norm=None, aspect=None, interpolation=None, alpha=None, vmin=None, vmax=None, origin=None, extent=None, *, filternorm=True, filterrad=4.0, resample=None, url=None, data=None, **kwargs)>"
      ]
     },
     "execution_count": 24,
     "metadata": {},
     "output_type": "execute_result"
    }
   ],
   "source": [
    "plt.imshow(Y_tr[0,:,:,:])"
   ]
  },
  {
   "cell_type": "code",
   "execution_count": null,
   "id": "886cf457",
   "metadata": {},
   "outputs": [],
   "source": [
    "prediction = model.predict(X_tr[0,:,:,:])\n",
    "plt.imshow(prediction)"
   ]
  },
  {
   "cell_type": "code",
   "execution_count": null,
   "id": "9b970dc9",
   "metadata": {},
   "outputs": [],
   "source": []
  },
  {
   "cell_type": "code",
   "execution_count": null,
   "id": "c57332d9",
   "metadata": {},
   "outputs": [],
   "source": []
  },
  {
   "cell_type": "code",
   "execution_count": null,
   "id": "68096e98",
   "metadata": {},
   "outputs": [],
   "source": []
  },
  {
   "cell_type": "code",
   "execution_count": null,
   "id": "30b62040",
   "metadata": {},
   "outputs": [],
   "source": []
  },
  {
   "cell_type": "code",
   "execution_count": null,
   "id": "97e80d9e",
   "metadata": {},
   "outputs": [],
   "source": []
  },
  {
   "cell_type": "code",
   "execution_count": 36,
   "id": "4eccd8fe",
   "metadata": {},
   "outputs": [
    {
     "name": "stdout",
     "output_type": "stream",
     "text": [
      "X MAE(%) : 0.08454\n",
      "Y MAE(%) : 0.01465\n",
      "M MAE(%) : 0.29644\n",
      "V MAE(%) : 0.38901\n"
     ]
    }
   ],
   "source": [
    "#표준화 MAE\n",
    "print('X MAE(%) : {:.5f}'.format(np.abs(Y_vid['X']-Y_vid['P_X']).mean()/800*100))\n",
    "print('Y MAE(%) : {:.5f}'.format(np.abs(Y_vid['Y']-Y_vid['P_Y']).mean()/800*100))\n",
    "print('M MAE(%) : {:.5f}'.format(np.abs(Y_vid['M']-Y_vid['P_M']).mean()/150*100))\n",
    "print('V MAE(%) : {:.5f}'.format(np.abs(Y_vid['V']-Y_vid['P_V']).mean()/0.8*100))"
   ]
  },
  {
   "cell_type": "code",
   "execution_count": 37,
   "id": "f262cc8a",
   "metadata": {},
   "outputs": [
    {
     "name": "stdout",
     "output_type": "stream",
     "text": [
      "X MAE(%) : 0.08454\n",
      "Y MAE(%) : 0.01465\n",
      "M MAE(%) : 0.29644\n",
      "V MAE(%) : 0.38901\n"
     ]
    }
   ],
   "source": [
    "#표준화 MAE\n",
    "print('X MAE(%) : {:.5f}'.format(np.abs(Y_vid['X']-Y_vid['P_X']).mean()/800*100))\n",
    "print('Y MAE(%) : {:.5f}'.format(np.abs(Y_vid['Y']-Y_vid['P_Y']).mean()/800*100))\n",
    "print('M MAE(%) : {:.5f}'.format(np.abs(Y_vid['M']-Y_vid['P_M']).mean()/150*100))\n",
    "print('V MAE(%) : {:.5f}'.format(np.abs(Y_vid['V']-Y_vid['P_V']).mean()/0.8*100))"
   ]
  },
  {
   "cell_type": "code",
   "execution_count": 38,
   "id": "24e0e592",
   "metadata": {},
   "outputs": [
    {
     "name": "stdout",
     "output_type": "stream",
     "text": [
      "X RMSE(%) : 1.31683\n",
      "Y RMSE(%) : 0.40263\n",
      "M RMSE(%) : 0.77264\n",
      "V RMSE(%) : 0.05599\n"
     ]
    }
   ],
   "source": [
    "#표준화 RMSE\n",
    "print('X RMSE(%) : {:.5f}'.format(np.sqrt(((Y_vid['X']-Y_vid['P_X'])**2).mean()/800*100)))\n",
    "print('Y RMSE(%) : {:.5f}'.format(np.sqrt(((Y_vid['Y']-Y_vid['P_Y'])**2).mean()/800*100)))\n",
    "print('M RMSE(%) : {:.5f}'.format(np.sqrt(((Y_vid['M']-Y_vid['P_M'])**2).mean()/150*100)))\n",
    "print('V RMSE(%) : {:.5f}'.format(np.sqrt(((Y_vid['V']-Y_vid['P_V'])**2).mean()/0.8*100)))"
   ]
  },
  {
   "cell_type": "code",
   "execution_count": 39,
   "id": "12b80818",
   "metadata": {
    "scrolled": true
   },
   "outputs": [
    {
     "name": "stdout",
     "output_type": "stream",
     "text": [
      "X R2 : 0.99978\n",
      "Y R2 : 0.99998\n",
      "M R2 : 0.99964\n",
      "V R2 : 0.99968\n"
     ]
    }
   ],
   "source": [
    "# R2_Score\n",
    "from sklearn.metrics import r2_score\n",
    "print('X R2 : {:.5f}'.format(r2_score(Y_vid['X'] , Y_vid['P_X'])))\n",
    "print('Y R2 : {:.5f}'.format(r2_score(Y_vid['Y'] , Y_vid['P_Y'])))\n",
    "print('M R2 : {:.5f}'.format(r2_score(Y_vid['M'] , Y_vid['P_M'])))\n",
    "print('V R2 : {:.5f}'.format(r2_score(Y_vid['V'] , Y_vid['P_V'])))"
   ]
  },
  {
   "cell_type": "code",
   "execution_count": null,
   "id": "6475503b",
   "metadata": {},
   "outputs": [],
   "source": []
  }
 ],
 "metadata": {
  "kernelspec": {
   "display_name": "Python 3 (ipykernel)",
   "language": "python",
   "name": "python3"
  },
  "language_info": {
   "codemirror_mode": {
    "name": "ipython",
    "version": 3
   },
   "file_extension": ".py",
   "mimetype": "text/x-python",
   "name": "python",
   "nbconvert_exporter": "python",
   "pygments_lexer": "ipython3",
   "version": "3.9.7"
  }
 },
 "nbformat": 4,
 "nbformat_minor": 5
}
