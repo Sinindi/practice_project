{
 "cells": [
  {
   "cell_type": "code",
   "execution_count": 4,
   "id": "38f91114",
   "metadata": {},
   "outputs": [],
   "source": [
    "\"\"\"\n",
    "필요한 모듈 및 프레임워크를 잘 생각하고 넣자\n",
    "\"\"\"\n",
    "from keras.utils import np_utils\n",
    "from keras.callbacks import ModelCheckpoint, EarlyStopping\n",
    "from matplotlib import pyplot as plt\n",
    "from sklearn.model_selection import train_test_split\n",
    "from tensorflow import keras\n",
    "from tensorflow.keras import layers\n",
    "from PIL import Image\n",
    "from keras.preprocessing.image import img_to_array\n",
    "import tensorflow as tf\n",
    "import numpy as np\n",
    "import pandas as pd \n",
    "import os, re"
   ]
  },
  {
   "cell_type": "code",
   "execution_count": 5,
   "id": "a5305683",
   "metadata": {},
   "outputs": [],
   "source": [
    "import os\n",
    "import sys\n",
    "from keras.preprocessing import image\n",
    "import numpy as np\n",
    "import re\n",
    "from PIL import Image\n",
    "\n",
    "current_path = os.path.abspath('')\n",
    "image_path = os.path.join(current_path, \"test_img\")\n",
    "input_img_path = os.path.join(current_path, \"input_img\")\n",
    "target_img_path = os.path.join(current_path, \"target_img\")\n",
    "\n",
    "\n",
    "\"\"\"\n",
    "이미지를 재단하는 함수\n",
    "입력용 회색이미지, 출력용 색상이미지 재단\n",
    "\"\"\"\n",
    "def crop_img(image_path):\n",
    "    \n",
    "    \n",
    "    files = os.listdir(image_path)\n",
    "    select = re.compile(\"([a-zA-Z0-9_\\s\\.]+(?=\\_pic))\")   \n",
    "   \n",
    "    for file in files:\n",
    "        if select.match(str(file)) != None:\n",
    "            name = str(file)\n",
    "            os.chdir(image_path)\n",
    "            img = Image.open(file)\n",
    "\n",
    "            img = img.crop([136, 112, 917, 823])\n",
    "\n",
    "            os.chdir(input_img_path)\n",
    "            img.save(name, \"PNG\")\n",
    "            os.chdir('..')\n",
    "            \n",
    "        else:\n",
    "            name = str(file)\n",
    "            os.chdir(image_path)\n",
    "            img = Image.open(file)\n",
    "\n",
    "            img = img.crop([136, 112, 917, 823])\n",
    "\n",
    "            os.chdir(target_img_path)\n",
    "            img.save(name, \"PNG\")\n",
    "            os.chdir('..')\n",
    "\n",
    "crop_img(image_path)"
   ]
  },
  {
   "cell_type": "code",
   "execution_count": 12,
   "id": "3e80df0a",
   "metadata": {},
   "outputs": [
    {
     "name": "stdout",
     "output_type": "stream",
     "text": [
      "(1170, 589824)\n"
     ]
    }
   ],
   "source": [
    "\"\"\"\n",
    "전처리 후 npy파일로 저장하기위한 코드\n",
    "일단 사이즈는 강제로 256,256으로 변환시키는 방식\n",
    "각 이미지를 일차원 배열로 생성\n",
    "사용시에는 인덱스에 맞게 꺼내서 사용할 예정\n",
    "\"\"\"\n",
    "\n",
    "current_path = os.path.abspath('')\n",
    "input_img_path = os.path.join(current_path,\"input_img\")\n",
    "target_img_path = os.path.join(current_path,\"target_img\")\n",
    "input_files = os.listdir(input_img_path)\n",
    "target_files = os.listdir(target_img_path)\n",
    "datasets = []\n",
    "i = 0\n",
    "test_data = np.array([])\n",
    "for input_file, target_file in zip(input_files, target_files):\n",
    "    dataset= []\n",
    "    plus_input = []\n",
    "    mul_input = []\n",
    "    input_pro = []\n",
    "    name = str(input_file)\n",
    "    #레이놀즈 수 파일 이름에서 추출\n",
    "    R = float(name[5]+\".\"+name[6]+name[7])*10**int(name[8])/(1.3*(10**6))\n",
    "    #인풋 이미지 파일 경로로 들어가서 인풋 이미지 전처리 과정\n",
    "    os.chdir(input_img_path)\n",
    "    input_img = Image.open(input_file)\n",
    "    #이미지 리사이징\n",
    "    input_img = input_img.resize((256, 256))\n",
    "    #이미지 nunpy배열로 변환\n",
    "    input_img_tensor = img_to_array(input_img)\n",
    "    input_img_tensor = input_img_tensor.reshape(196608).astype('float64')/ 255\n",
    "    #타겟 이미지 파일 경로로 들어가서 전처리 과정\n",
    "    os.chdir(target_img_path)\n",
    "    target_img = Image.open(target_file)\n",
    "    target_img = target_img.resize((256,256))\n",
    "    #타겟 이미지는 1차원 배열로 생성\n",
    "    target_img_tensor = img_to_array(target_img)\n",
    "    target_img_tensor = target_img_tensor.reshape(196608).astype('float64')/ 255\n",
    "    plus_input = (input_img_tensor +R)/2\n",
    "    dataset = np.concatenate((input_img_tensor,plus_input), axis = 0)\n",
    "    dataset = np.concatenate((dataset,target_img_tensor), axis = 0)\n",
    "    datasets.insert(i,dataset)\n",
    "    i += 1\n",
    "    os.chdir('..')\n",
    "datasets = np.array(datasets)\n",
    "#[:,:196608]인풋 이미지,[:,196608:393216]레이놀즈수,[:,393216:]타겟 이미지\n",
    "np.save(\"test.npy\", datasets)\n",
    "print(datasets.shape)"
   ]
  },
  {
   "cell_type": "code",
   "execution_count": 13,
   "id": "f41b9e51",
   "metadata": {},
   "outputs": [],
   "source": [
    "\n",
    "dataset = np.load('test.npy', allow_pickle=True)\n",
    "X = dataset[:,196608:393216]\n",
    "Y = dataset[:,393216:]\n",
    "X_train, X_test, Y_train, Y_test = train_test_split(X, Y, test_size=0.2, random_state =1)\n",
    "X_test, X_val,Y_test, Y_val = train_test_split(X_test,Y_test,test_size=0.5,random_state=1)\n",
    "X_train = X_train.reshape(X_train.shape[0], 256,256,3)\n",
    "X_test = X_test.reshape(X_test.shape[0], 256,256,3)\n",
    "X_val = X_val.reshape(X_val.shape[0], 256,256,3)\n",
    "Y_train = Y_train.reshape(Y_train.shape[0], 256,256,3)\n",
    "Y_test = Y_test.reshape(Y_test.shape[0], 256,256,3)\n",
    "Y_val = Y_val.reshape(Y_val.shape[0], 256,256,3)\n"
   ]
  },
  {
   "cell_type": "code",
   "execution_count": null,
   "id": "65a7201e",
   "metadata": {},
   "outputs": [
    {
     "name": "stdout",
     "output_type": "stream",
     "text": [
      "Epoch 1/500\n",
      "94/94 [==============================] - 23s 234ms/step - loss: 0.1920 - mae: 0.2043 - val_loss: 0.0275 - val_mae: 0.0759\n",
      "Epoch 2/500\n",
      "94/94 [==============================] - 22s 238ms/step - loss: 0.0284 - mae: 0.0817 - val_loss: 0.0261 - val_mae: 0.0766\n",
      "Epoch 3/500\n",
      "94/94 [==============================] - 21s 226ms/step - loss: 0.0271 - mae: 0.0794 - val_loss: 0.0253 - val_mae: 0.0744\n",
      "Epoch 4/500\n",
      "94/94 [==============================] - 22s 232ms/step - loss: 0.0264 - mae: 0.0786 - val_loss: 0.0257 - val_mae: 0.0802\n",
      "Epoch 5/500\n",
      "94/94 [==============================] - 21s 225ms/step - loss: 0.0259 - mae: 0.0776 - val_loss: 0.0247 - val_mae: 0.0736\n",
      "Epoch 6/500\n",
      "94/94 [==============================] - 21s 225ms/step - loss: 0.0258 - mae: 0.0772 - val_loss: 0.0247 - val_mae: 0.0724\n",
      "Epoch 7/500\n",
      "94/94 [==============================] - 21s 228ms/step - loss: 0.0254 - mae: 0.0763 - val_loss: 0.0242 - val_mae: 0.0724\n",
      "Epoch 8/500\n",
      "94/94 [==============================] - 22s 231ms/step - loss: 0.0244 - mae: 0.0731 - val_loss: 0.0213 - val_mae: 0.0632\n",
      "Epoch 9/500\n",
      "94/94 [==============================] - 21s 226ms/step - loss: 0.0211 - mae: 0.0642 - val_loss: 0.0182 - val_mae: 0.0535\n",
      "Epoch 10/500\n",
      "94/94 [==============================] - 22s 238ms/step - loss: 0.0173 - mae: 0.0523 - val_loss: 0.0156 - val_mae: 0.0458\n",
      "Epoch 11/500\n",
      "94/94 [==============================] - 22s 235ms/step - loss: 0.0161 - mae: 0.0468 - val_loss: 0.0148 - val_mae: 0.0417\n",
      "Epoch 12/500\n",
      "94/94 [==============================] - 22s 233ms/step - loss: 0.0152 - mae: 0.0428 - val_loss: 0.0145 - val_mae: 0.0402\n",
      "Epoch 13/500\n",
      "94/94 [==============================] - 22s 233ms/step - loss: 0.0149 - mae: 0.0409 - val_loss: 0.0140 - val_mae: 0.0370\n",
      "Epoch 14/500\n",
      "94/94 [==============================] - 22s 234ms/step - loss: 0.0142 - mae: 0.0375 - val_loss: 0.0136 - val_mae: 0.0352\n",
      "Epoch 15/500\n",
      "94/94 [==============================] - 22s 235ms/step - loss: 0.0141 - mae: 0.0366 - val_loss: 0.0135 - val_mae: 0.0340\n",
      "Epoch 16/500\n",
      "94/94 [==============================] - 22s 239ms/step - loss: 0.0138 - mae: 0.0349 - val_loss: 0.0134 - val_mae: 0.0339\n",
      "Epoch 17/500\n",
      "94/94 [==============================] - 23s 247ms/step - loss: 0.0137 - mae: 0.0342 - val_loss: 0.0133 - val_mae: 0.0328\n",
      "Epoch 18/500\n",
      "94/94 [==============================] - 23s 244ms/step - loss: 0.0135 - mae: 0.0332 - val_loss: 0.0133 - val_mae: 0.0327\n",
      "Epoch 19/500\n",
      "70/94 [=====================>........] - ETA: 5s - loss: 0.0136 - mae: 0.0332"
     ]
    }
   ],
   "source": [
    "\"\"\"\n",
    "VGG16과 u-net의 조합을 해볼 생각이다.\n",
    "\"\"\"\n",
    "input_e = tf.keras.Input(shape=(256,256,3))\n",
    "\n",
    "block1_conv1 = layers.Conv2D(64, 3, activation='relu', padding = 'same')(input_e)\n",
    "block1_conv2 = layers.Conv2D(64, 3, activation='relu', padding = 'same')(block1_conv1)\n",
    "block1_pool = layers.MaxPooling2D(2)(block1_conv2)\n",
    "        \n",
    "block2_conv1 = layers.Conv2D(128, 3, activation='relu', padding = 'same')(block1_pool)\n",
    "block2_conv2 = layers.Conv2D(128, 3, activation='relu', padding = 'same')(block2_conv1)\n",
    "block2_pool = layers.MaxPooling2D(2)(block2_conv2)\n",
    "\n",
    "block3_conv1 = layers.Conv2D(256, 3, activation='relu', padding = 'same')(block2_pool)\n",
    "block3_conv2 = layers.Conv2D(256, 3, activation='relu', padding = 'same')(block3_conv1)\n",
    "block3_conv3 = layers.Conv2D(256, 3, activation='relu', padding = 'same')(block3_conv2)\n",
    "block3_pool = layers.MaxPooling2D(2)(block3_conv3)\n",
    "\n",
    "block4_conv1 = layers.Conv2D(512, 3, activation='relu', padding = 'same')(block3_pool)\n",
    "block4_conv2 = layers.Conv2D(512, 3, activation='relu', padding = 'same')(block4_conv1)\n",
    "block4_conv3 = layers.Conv2D(512, 3, activation='relu', padding = 'same')(block4_conv2)\n",
    "block4_pool = layers.MaxPooling2D(2)(block4_conv3)\n",
    "\n",
    "block5_conv1 = layers.Conv2D(512, 3, activation='relu', padding = 'same')(block4_pool)\n",
    "block5_conv2 = layers.Conv2D(512, 3, activation='relu', padding = 'same')(block5_conv1)\n",
    "block5_conv3 = layers.Conv2D(512, 3, activation='relu', padding = 'same')(block5_conv2)\n",
    "block5_pool = layers.MaxPooling2D(2)(block5_conv3)\n",
    "\"\"\"\n",
    "여기까지가 VGG16을 구현한 장소\n",
    "\"\"\"\n",
    "block6_convt1 = layers.Conv2DTranspose(512, 3, activation='relu', padding='same')(block5_pool)\n",
    "block6_upsamp = layers.UpSampling2D(2)(block6_convt1)\n",
    "block6_skipcon = layers.Concatenate(axis=3)([block4_pool, block6_upsamp])\n",
    "block6_convt2 = layers.Conv2D(512, 3, activation = 'relu', padding='same')(block6_skipcon)\n",
    "\n",
    "block7_convt1 = layers.Conv2DTranspose(256, 3, activation='relu', padding='same')(block6_convt2)\n",
    "block7_upsamp = layers.UpSampling2D(2)(block7_convt1)\n",
    "block7_skipcon = layers.Concatenate(axis=3)([block3_pool, block7_upsamp])\n",
    "block7_convt2 = layers.Conv2D(256, 3, activation = 'relu', padding='same')(block7_skipcon)\n",
    "\n",
    "block8_convt1 = layers.Conv2DTranspose(128, 3, activation='relu', padding='same')(block7_convt2)\n",
    "block8_upsamp = layers.UpSampling2D(2)(block8_convt1)\n",
    "block8_skipcon = layers.Concatenate(axis=3)([block2_pool, block8_upsamp])\n",
    "block8_convt2 = layers.Conv2D(128, 3, activation = 'relu', padding='same')(block8_skipcon)\n",
    "\n",
    "block9_convt1 = layers.Conv2DTranspose(64, 3, activation='relu', padding='same')(block8_convt2)\n",
    "block9_upsamp = layers.UpSampling2D(2)(block9_convt1)\n",
    "block9_skipcon = layers.Concatenate(axis=3)([block1_pool, block9_upsamp])\n",
    "block9_convt2 = layers.Conv2D(64, 3, activation = 'relu', padding='same')(block9_skipcon)\n",
    "\n",
    "block10_convt1 = layers.Conv2DTranspose(64, 3, activation='relu', padding='same')(block9_convt2)\n",
    "block10_upsamp = layers.UpSampling2D(2)(block10_convt1)\n",
    "\n",
    "output_d = layers.Conv2DTranspose(3, 3, activation='relu', padding='same')(block10_upsamp)\n",
    "\n",
    "model = keras.Model(input_e, output_d, name = 'unet-VGG16')\n",
    "\n",
    "model.compile(optimizer=tf.keras.optimizers.Adam(learning_rate=0.0012, decay = 0.013),loss='mse', metrics=['mae'])\n",
    "history = model.fit(X_train,Y_train,epochs=500, validation_data=(X_val, Y_val), batch_size=10)\n",
    "\n",
    "#hist = model.fit(X_tr,Y_tr['M'],epochs=500, validation_data=(X_vid, Y_vid['M']), batch_size=32)\n",
    "\n",
    "model.summary()\n",
    "model.save('test_model_unet_VGG.h5')"
   ]
  },
  {
   "cell_type": "code",
   "execution_count": 15,
   "id": "aa07baa6",
   "metadata": {},
   "outputs": [
    {
     "name": "stdout",
     "output_type": "stream",
     "text": [
      "(256, 256, 3)\n",
      "(256, 256, 3)\n"
     ]
    },
    {
     "data": {
      "image/png": "[encoded data removed]",
      "text/plain": [
       "<Figure size 432x288 with 1 Axes>"
      ]
     },
     "metadata": {
      "needs_background": "light"
     },
     "output_type": "display_data"
    }
   ],
   "source": [
    "from PIL import Image\n",
    "import matplotlib.pyplot as plt\n",
    "Y_prediction = model.predict(X_test)\n",
    "\n",
    "label = Y_test[53]\n",
    "prediction = Y_prediction[53]\n",
    "test_img= Image.fromarray((label*255).astype(np.uint8))\n",
    "predi_img= Image.fromarray((prediction*255).astype(np.uint8))\n",
    "plt.imshow(test_img)\n",
    "print(Y_test[0].shape)\n",
    "print(Y_prediction[0].shape)\n",
    "# img_test_label = Image.fromarray(img_test_label)\n",
    "# img_test_label.show()"
   ]
  },
  {
   "cell_type": "code",
   "execution_count": 16,
   "id": "9f5ee458",
   "metadata": {},
   "outputs": [
    {
     "data": {
      "text/plain": [
       "<matplotlib.image.AxesImage at 0x16010178ee0>"
      ]
     },
     "execution_count": 16,
     "metadata": {},
     "output_type": "execute_result"
    },
    {
     "data": {
      "image/png": "[encoded data removed]",
      "text/plain": [
       "<Figure size 432x288 with 1 Axes>"
      ]
     },
     "metadata": {
      "needs_background": "light"
     },
     "output_type": "display_data"
    }
   ],
   "source": [
    "plt.imshow(predi_img)"
   ]
  },
  {
   "cell_type": "code",
   "execution_count": 10,
   "id": "e6e33b40",
   "metadata": {},
   "outputs": [],
   "source": []
  }
 ],
 "metadata": {
  "kernelspec": {
   "display_name": "Python 3 (ipykernel)",
   "language": "python",
   "name": "python3"
  },
  "language_info": {
   "codemirror_mode": {
    "name": "ipython",
    "version": 3
   },
   "file_extension": ".py",
   "mimetype": "text/x-python",
   "name": "python",
   "nbconvert_exporter": "python",
   "pygments_lexer": "ipython3",
   "version": "3.9.7"
  }
 },
 "nbformat": 4,
 "nbformat_minor": 5
}
