{
 "cells": [
  {
   "cell_type": "code",
   "execution_count": 18,
   "id": "866924f5",
   "metadata": {},
   "outputs": [],
   "source": [
    "\"\"\"\n",
    "필요한 모듈 및 프레임워크를 잘 생각하고 넣자\n",
    "\"\"\"\n",
    "from keras.utils import np_utils\n",
    "from keras.callbacks import ModelCheckpoint, EarlyStopping\n",
    "from matplotlib import pyplot as plt\n",
    "from sklearn.model_selection import train_test_split\n",
    "from tensorflow import keras\n",
    "from tensorflow.keras import layers\n",
    "import tensorflow as tf\n",
    "import numpy as np\n",
    "import pandas as pd \n",
    "import os"
   ]
  },
  {
   "cell_type": "code",
   "execution_count": 28,
   "id": "3c6f9471",
   "metadata": {},
   "outputs": [
    {
     "name": "stdout",
     "output_type": "stream",
     "text": [
      "(638,)\n"
     ]
    }
   ],
   "source": [
    "\n",
    "#데이터 불러오기\n",
    "\"\"\"\n",
    "첫 모델에서는 기본 형상에 레이놀즈 수 스칼라를 더한 후 2를 나눠준 함수를 CNN모델으로\n",
    "학습\n",
    "두번째 모델에서는 위 방식에 원 형상이미지 인풋을 추가하여 학습 시켜 출력시 \n",
    "형상이미지의 정확도를 늘릴 예정\n",
    "세번째 모델에서는 순수 입력 이미지를 CNN모델으로 학습 레이놀즈수는 다중입력으로\n",
    "특별한 신경망을 지나지 않고 입력으로 사용하는 wide&deeplearning이용\n",
    "네번째 모델은 바이너리말고 원상태로 생성해서 테스트 \n",
    "\"\"\"\n",
    "#데이터 셋 불러 오기\n",
    "dataset = np.load('test.npy', allow_pickle=True)\n",
    "dataset_test = np.load('test2.npy', allow_pickle=True)\n",
    "shape_inputs = dataset[:,0]\n",
    "reynols = dataset[:,1]\n",
    "outputs = dataset[:,2]\n",
    "\n",
    "#1 더하고 나눈 인풋\n",
    "RI_inputs = dataset_test[:,1]\n",
    "print(RI_inputs.shape)\n"
   ]
  },
  {
   "cell_type": "code",
   "execution_count": 26,
   "id": "74818100",
   "metadata": {},
   "outputs": [
    {
     "name": "stdout",
     "output_type": "stream",
     "text": [
      "Model: \"test1\"\n",
      "_________________________________________________________________\n",
      " Layer (type)                Output Shape              Param #   \n",
      "=================================================================\n",
      " RI_input (InputLayer)       [(None, 256, 256, 1)]     0         \n",
      "                                                                 \n",
      " conv2d_16 (Conv2D)          (None, 256, 256, 16)      160       \n",
      "                                                                 \n",
      " max_pooling2d_16 (MaxPoolin  (None, 128, 128, 16)     0         \n",
      " g2D)                                                            \n",
      "                                                                 \n",
      " conv2d_17 (Conv2D)          (None, 128, 128, 32)      4640      \n",
      "                                                                 \n",
      " max_pooling2d_17 (MaxPoolin  (None, 64, 64, 32)       0         \n",
      " g2D)                                                            \n",
      "                                                                 \n",
      " flatten_5 (Flatten)         (None, 131072)            0         \n",
      "                                                                 \n",
      " dense_5 (Dense)             (None, 1)                 131073    \n",
      "                                                                 \n",
      "=================================================================\n",
      "Total params: 135,873\n",
      "Trainable params: 135,873\n",
      "Non-trainable params: 0\n",
      "_________________________________________________________________\n"
     ]
    }
   ],
   "source": [
    "\"\"\"\n",
    "첫모델\n",
    "\"\"\"\n",
    "tf.random.set_seed(44)\n",
    "\n",
    "RI_inputs = keras.Input(shape = (256,256,1), name = 'RI_input')\n",
    "\n",
    "\n",
    "Con1 = layers.Conv2D(16,3,activation = 'elu', padding='same')(RI_inputs)\n",
    "Max1 = layers.MaxPool2D(pool_size=(2))(Con1)\n",
    "\n",
    "Con2 = layers.Conv2D(32, 3, activation = 'elu', padding='same')(Max1)\n",
    "Max2  =layers.MaxPool2D(pool_size=(2))(Con2)\n",
    "\n",
    "flat = layers.Flatten()(Max2)\n",
    "\n",
    "output =  layers.Dense(1)(flat)\n",
    "\n",
    "model = keras.Model(inputs = RI_inputs,outputs=output, name = 'test1')\n",
    "\n",
    "\n",
    "#history = model.fit()\n",
    "\n",
    "model.summary()"
   ]
  },
  {
   "cell_type": "code",
   "execution_count": 27,
   "id": "7b884998",
   "metadata": {},
   "outputs": [
    {
     "name": "stdout",
     "output_type": "stream",
     "text": [
      "Model: \"test1\"\n",
      "_________________________________________________________________\n",
      " Layer (type)                Output Shape              Param #   \n",
      "=================================================================\n",
      " RI_input (InputLayer)       [(None, 256, 256, 3)]     0         \n",
      "                                                                 \n",
      " conv2d_18 (Conv2D)          (None, 256, 256, 16)      448       \n",
      "                                                                 \n",
      " max_pooling2d_18 (MaxPoolin  (None, 128, 128, 16)     0         \n",
      " g2D)                                                            \n",
      "                                                                 \n",
      " conv2d_19 (Conv2D)          (None, 128, 128, 32)      4640      \n",
      "                                                                 \n",
      " max_pooling2d_19 (MaxPoolin  (None, 64, 64, 32)       0         \n",
      " g2D)                                                            \n",
      "                                                                 \n",
      " flatten_6 (Flatten)         (None, 131072)            0         \n",
      "                                                                 \n",
      " dense_6 (Dense)             (None, 1)                 131073    \n",
      "                                                                 \n",
      "=================================================================\n",
      "Total params: 136,161\n",
      "Trainable params: 136,161\n",
      "Non-trainable params: 0\n",
      "_________________________________________________________________\n"
     ]
    }
   ],
   "source": [
    "\"\"\"\n",
    "네번째 모델\n",
    "\"\"\"\n",
    "tf.random.set_seed(44)\n",
    "\n",
    "RI_inputs = keras.Input(shape = (256,256,3), name = 'RI_input')\n",
    "\n",
    "\n",
    "Con1 = layers.Conv2D(16,3,activation = 'elu', padding='same')(RI_inputs)\n",
    "Max1 = layers.MaxPool2D(pool_size=(2))(Con1)\n",
    "\n",
    "Con2 = layers.Conv2D(32, 3, activation = 'elu', padding='same')(Max1)\n",
    "Max2  =layers.MaxPool2D(pool_size=(2))(Con2)\n",
    "\n",
    "flat = layers.Flatten()(Max2)\n",
    "\n",
    "output =  layers.Dense(1)(flat)\n",
    "\n",
    "model = keras.Model(inputs = RI_inputs,outputs=output, name = 'test1')\n",
    "\n",
    "\n",
    "#history = model.fit()\n",
    "\n",
    "model.summary()"
   ]
  }
 ],
 "metadata": {
  "kernelspec": {
   "display_name": "Python 3 (ipykernel)",
   "language": "python",
   "name": "python3"
  },
  "language_info": {
   "codemirror_mode": {
    "name": "ipython",
    "version": 3
   },
   "file_extension": ".py",
   "mimetype": "text/x-python",
   "name": "python",
   "nbconvert_exporter": "python",
   "pygments_lexer": "ipython3",
   "version": "3.9.7"
  }
 },
 "nbformat": 4,
 "nbformat_minor": 5
}
