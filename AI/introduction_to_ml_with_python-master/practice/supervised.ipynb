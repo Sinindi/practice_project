{
 "cells": [
  {
   "cell_type": "code",
   "execution_count": 9,
   "id": "50243eba",
   "metadata": {},
   "outputs": [
    {
     "name": "stderr",
     "output_type": "stream",
     "text": [
      "C:\\Users\\hi851\\anaconda3\\lib\\site-packages\\sklearn\\utils\\deprecation.py:86: FutureWarning: Function make_blobs is deprecated; Please import make_blobs directly from scikit-learn\n",
      "  warnings.warn(msg, category=FutureWarning)\n"
     ]
    },
    {
     "data": {
      "image/png": "[encoded data removed]",
      "text/plain": [
       "<Figure size 432x288 with 1 Axes>"
      ]
     },
     "metadata": {
      "needs_background": "light"
     },
     "output_type": "display_data"
    }
   ],
   "source": [
    "import mglearn\n",
    "import matplotlib.pyplot as plt\n",
    "X, y =mglearn.datasets.make_forge()\n",
    "mglearn.discrete_scatter(X[:,0],X[:,1],y)\n",
    "plt.legend([\"class 0\", \"class 1\"], loc =4)\n",
    "plt.xlabel(\"first feature\")\n",
    "plt.show()"
   ]
  },
  {
   "cell_type": "code",
   "execution_count": 12,
   "id": "d0246f49",
   "metadata": {},
   "outputs": [
    {
     "data": {
      "image/png": "[encoded data removed]",
      "text/plain": [
       "<Figure size 432x288 with 1 Axes>"
      ]
     },
     "metadata": {
      "needs_background": "light"
     },
     "output_type": "display_data"
    },
    {
     "data": {
      "text/plain": [
       "'\\n위의 두 데이터 셋은 인위적인 데이터 셋으로 \\n2차원이라 둘이 넘는 특성은 표현하기 어려우니 손쉽게 시각화 하기 위해서 \\n간단한 저 차원 데이터셋을 이용한다.\\n주의할 점은 특성이 적은 데이터셋(저차원 데이터셋)에서 얻은 직관이\\n특성이 많은 데이터셋(고차원 데이터셋)에서 그대로 유지되지 않을 수 있다는 점이다.\\n유념해두자.\\n'"
      ]
     },
     "execution_count": 12,
     "metadata": {},
     "output_type": "execute_result"
    }
   ],
   "source": [
    "X,y = mglearn.datasets.make_wave(n_samples = 40)\n",
    "plt.plot(X,y,'o')\n",
    "plt.ylim(-3,3)\n",
    "plt.xlabel(\"feature\")\n",
    "plt.ylabel(\"target\")\n",
    "plt.show()\n",
    "\"\"\"\n",
    "위의 두 데이터 셋은 인위적인 데이터 셋으로 \n",
    "2차원이라 둘이 넘는 특성은 표현하기 어려우니 손쉽게 시각화 하기 위해서 \n",
    "간단한 저 차원 데이터셋을 이용한다.\n",
    "주의할 점은 특성이 적은 데이터셋(저차원 데이터셋)에서 얻은 직관이\n",
    "특성이 많은 데이터셋(고차원 데이터셋)에서 그대로 유지되지 않을 수 있다는 점이다.\n",
    "유념해두자.\n",
    "\"\"\""
   ]
  },
  {
   "cell_type": "code",
   "execution_count": 19,
   "id": "9cd098f7",
   "metadata": {},
   "outputs": [
    {
     "name": "stdout",
     "output_type": "stream",
     "text": [
      "cancer.keys(): \n",
      "dict_keys(['data', 'target', 'frame', 'target_names', 'DESCR', 'feature_names', 'filename'])\n"
     ]
    }
   ],
   "source": [
    "from sklearn.datasets import load_breast_cancer\n",
    "import numpy as np\n",
    "cancer = load_breast_cancer()\n",
    "print(f\"cancer.keys(): \\n{cancer.keys()}\")"
   ]
  },
  {
   "cell_type": "code",
   "execution_count": 14,
   "id": "ed0787b5",
   "metadata": {},
   "outputs": [
    {
     "name": "stdout",
     "output_type": "stream",
     "text": [
      "유방암 데이터의 형태 : (569, 30)\n"
     ]
    }
   ],
   "source": [
    "print(f\"유방암 데이터의 형태 : {cancer.data.shape}\")"
   ]
  },
  {
   "cell_type": "code",
   "execution_count": 21,
   "id": "50bb2643",
   "metadata": {},
   "outputs": [
    {
     "name": "stdout",
     "output_type": "stream",
     "text": [
      "클래스별 샘플 개수: \n",
      "  {'malignant': 212, 'benign': 357}\n"
     ]
    }
   ],
   "source": [
    "\"\"\"\n",
    "악성 종양인지, 양성 종양인지의 클래스별 샘플 개수를 볼 수 있다.\n",
    "\"\"\"\n",
    "print(\"클래스별 샘플 개수: \\n \",{n : v for n,v in zip(cancer.target_names, np.bincount(cancer.target))})"
   ]
  },
  {
   "cell_type": "code",
   "execution_count": 23,
   "id": "0a6785be",
   "metadata": {},
   "outputs": [
    {
     "name": "stdout",
     "output_type": "stream",
     "text": [
      "특성 이름:\n",
      "['mean radius' 'mean texture' 'mean perimeter' 'mean area'\n",
      " 'mean smoothness' 'mean compactness' 'mean concavity'\n",
      " 'mean concave points' 'mean symmetry' 'mean fractal dimension'\n",
      " 'radius error' 'texture error' 'perimeter error' 'area error'\n",
      " 'smoothness error' 'compactness error' 'concavity error'\n",
      " 'concave points error' 'symmetry error' 'fractal dimension error'\n",
      " 'worst radius' 'worst texture' 'worst perimeter' 'worst area'\n",
      " 'worst smoothness' 'worst compactness' 'worst concavity'\n",
      " 'worst concave points' 'worst symmetry' 'worst fractal dimension']\n"
     ]
    }
   ],
   "source": [
    "print(f\"특성 이름:\\n{cancer.feature_names}\")"
   ]
  },
  {
   "cell_type": "code",
   "execution_count": 25,
   "id": "e7584f16",
   "metadata": {},
   "outputs": [
    {
     "name": "stdout",
     "output_type": "stream",
     "text": [
      "데이터의 형태 : (506, 13)\n"
     ]
    }
   ],
   "source": [
    "from sklearn.datasets import load_boston\n",
    "boston = load_boston()\n",
    "print(f\"데이터의 형태 :\", boston.data.shape)\n"
   ]
  },
  {
   "cell_type": "code",
   "execution_count": 26,
   "id": "78ddf951",
   "metadata": {},
   "outputs": [
    {
     "name": "stdout",
     "output_type": "stream",
     "text": [
      "X.shape :  (506, 104)\n"
     ]
    }
   ],
   "source": [
    "\"\"\"\n",
    "데이터 특성의 수가 13개였는데, \n",
    "서로 다른 두 특성을 곱하여 새로운 특성으로 \n",
    "특성을 유도하는 방식으로 특성의 개수가 늘어났음을 볼 수 있다.\n",
    "\"\"\"\n",
    "X, y = mglearn.datasets.load_extended_boston()\n",
    "print(\"X.shape : \",X.shape)\n",
    "\"\"\"\n",
    "위의 두 데이터 셋은 인위 적인 데이터셋과 비교해보기 위해\n",
    "실제 데이터 셋 두개를 가져온 것이다\n",
    "한개는 유방암 종양에 대한 종양의 양성 악성을 예측하는 분류 지도 학습을 위한 데이터\n",
    "다른 한개는 보스턴 거리의 가격을 예측하는 회귀 지도 학습을 위한 데이터이다.\n",
    "\"\"\""
   ]
  },
  {
   "cell_type": "code",
   "execution_count": 27,
   "id": "50296568",
   "metadata": {},
   "outputs": [
    {
     "name": "stderr",
     "output_type": "stream",
     "text": [
      "C:\\Users\\hi851\\anaconda3\\lib\\site-packages\\sklearn\\utils\\deprecation.py:86: FutureWarning: Function make_blobs is deprecated; Please import make_blobs directly from scikit-learn\n",
      "  warnings.warn(msg, category=FutureWarning)\n"
     ]
    },
    {
     "data": {
      "image/png": "[encoded data removed]",
      "text/plain": [
       "<Figure size 432x288 with 1 Axes>"
      ]
     },
     "metadata": {
      "needs_background": "light"
     },
     "output_type": "display_data"
    }
   ],
   "source": [
    "mglearn.plots.plot_knn_classification(n_neighbors=1)\n",
    "#"
   ]
  },
  {
   "cell_type": "code",
   "execution_count": 28,
   "id": "9d668fa1",
   "metadata": {},
   "outputs": [
    {
     "name": "stderr",
     "output_type": "stream",
     "text": [
      "C:\\Users\\hi851\\anaconda3\\lib\\site-packages\\sklearn\\utils\\deprecation.py:86: FutureWarning: Function make_blobs is deprecated; Please import make_blobs directly from scikit-learn\n",
      "  warnings.warn(msg, category=FutureWarning)\n"
     ]
    },
    {
     "data": {
      "image/png": "[encoded data removed]",
      "text/plain": [
       "<Figure size 432x288 with 1 Axes>"
      ]
     },
     "metadata": {
      "needs_background": "light"
     },
     "output_type": "display_data"
    }
   ],
   "source": [
    "mglearn.plots.plot_knn_classification(n_neighbors=3)"
   ]
  },
  {
   "cell_type": "code",
   "execution_count": 29,
   "id": "c4bc3b79",
   "metadata": {},
   "outputs": [
    {
     "name": "stderr",
     "output_type": "stream",
     "text": [
      "C:\\Users\\hi851\\anaconda3\\lib\\site-packages\\sklearn\\utils\\deprecation.py:86: FutureWarning: Function make_blobs is deprecated; Please import make_blobs directly from scikit-learn\n",
      "  warnings.warn(msg, category=FutureWarning)\n"
     ]
    }
   ],
   "source": [
    "from sklearn.model_selection import train_test_split\n",
    "X, y = mglearn.datasets.make_forge()\n",
    "\"\"\"\n",
    "최근접 이웃 분류를 시각화 하여 보다 더 쉽게 이해하기 위해\n",
    "테스트셋과 학습셋을 분류하여 학습을 시켜봅니다.\n",
    "\"\"\"\n",
    "X_train, X_test, y_train, y_test = train_test_split(X, y, random_state =0 )"
   ]
  },
  {
   "cell_type": "code",
   "execution_count": 32,
   "id": "0085f331",
   "metadata": {},
   "outputs": [],
   "source": [
    "from sklearn.neighbors import KNeighborsClassifier\n",
    "clf = KNeighborsClassifier(n_neighbors=3)"
   ]
  },
  {
   "cell_type": "code",
   "execution_count": 34,
   "id": "41cfa735",
   "metadata": {},
   "outputs": [
    {
     "data": {
      "text/plain": [
       "KNeighborsClassifier(n_neighbors=3)"
      ]
     },
     "execution_count": 34,
     "metadata": {},
     "output_type": "execute_result"
    }
   ],
   "source": [
    "clf.fit(X_train, y_train)\n",
    "\"\"\"\n",
    "최근접 이웃 분류 (k-NN)의 경우\n",
    "사실은 학습 이라기 보다는 '데이터 셋의 저장 '에 가까운 방식이다\n",
    "입력 데이터 셋을 저장하여\n",
    "새로운 데이터 셋과 비교하여 가장 비슷한 데이터를 가진 값과 \n",
    "비교를 하는 방식이기 때문이다.\n",
    "\"\"\""
   ]
  },
  {
   "cell_type": "code",
   "execution_count": 36,
   "id": "8ee736d4",
   "metadata": {},
   "outputs": [
    {
     "name": "stdout",
     "output_type": "stream",
     "text": [
      "테스트 세트 예측: [1 0 1 0 1 0 0]\n"
     ]
    }
   ],
   "source": [
    "print(\"테스트 세트 예측:\", clf.predict(X_test)) "
   ]
  },
  {
   "cell_type": "code",
   "execution_count": 38,
   "id": "b8e8ce5a",
   "metadata": {},
   "outputs": [
    {
     "name": "stdout",
     "output_type": "stream",
     "text": [
      "테스트 세트 정확도: 0.86\n"
     ]
    }
   ],
   "source": [
    "print(f\"테스트 세트 정확도: {clf.score(X_test, y_test):.2f}\")"
   ]
  },
  {
   "cell_type": "code",
   "execution_count": 40,
   "id": "48910b3a",
   "metadata": {},
   "outputs": [
    {
     "data": {
      "image/png": "[encoded data removed]",
      "text/plain": [
       "<Figure size 720x216 with 3 Axes>"
      ]
     },
     "metadata": {},
     "output_type": "display_data"
    }
   ],
   "source": [
    "fig, axes = plt.subplots(1, 3, figsize=(10, 3))\n",
    "\"\"\"\n",
    "이웃이 하나 셋 아홉개일때의 결정 경계를 보여주기 위한 코드입니다.\n",
    "아래의 그래프를 보면 이웃을 하나 선택했을때는 결정 경계가 훈련 데이터에 \n",
    "가깝게 따라가고 있음을 볼 수 있다.\n",
    "이웃의 수를 늘릴수록 결정 경계는 더 부드러워지는데\n",
    "\"\"\"\n",
    "for n_neighbors, ax in zip([1, 3, 9], axes):\n",
    "    clf = KNeighborsClassifier(n_neighbors=n_neighbors).fit(X,y)\n",
    "    mglearn.plots.plot_2d_separator(clf, X, fill=True, eps=0.5, ax= ax, alpha = .4)\n",
    "    mglearn.discrete_scatter(X[:,0],X[:,1], y, ax=ax)\n",
    "    ax.set_title(f\"{n_neighbors} neighbor\")\n",
    "    ax.set_xlabel(\"feature 0\")\n",
    "    ax.set_ylabel(\"feature 1\")\n",
    "    \n",
    "\n",
    "axes[0].legend(loc=3)\n",
    "plt.show()"
   ]
  }
 ],
 "metadata": {
  "kernelspec": {
   "display_name": "Python 3 (ipykernel)",
   "language": "python",
   "name": "python3"
  },
  "language_info": {
   "codemirror_mode": {
    "name": "ipython",
    "version": 3
   },
   "file_extension": ".py",
   "mimetype": "text/x-python",
   "name": "python",
   "nbconvert_exporter": "python",
   "pygments_lexer": "ipython3",
   "version": "3.9.7"
  }
 },
 "nbformat": 4,
 "nbformat_minor": 5
}
