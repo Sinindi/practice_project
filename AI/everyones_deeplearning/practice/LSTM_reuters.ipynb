{
 "cells": [
  {
   "cell_type": "code",
   "execution_count": 16,
   "id": "611fdea1",
   "metadata": {},
   "outputs": [
    {
     "name": "stdout",
     "output_type": "stream",
     "text": [
      "46 카테고리\n",
      "8982 학습용 뉴스 기사\n",
      "2246 테스트용 뉴스 기사\n",
      "[1, 2, 2, 8, 43, 10, 447, 5, 25, 207, 270, 5, 2, 111, 16, 369, 186, 90, 67, 7, 89, 5, 19, 102, 6, 19, 124, 15, 90, 67, 84, 22, 482, 26, 7, 48, 4, 49, 8, 864, 39, 209, 154, 6, 151, 6, 83, 11, 15, 22, 155, 11, 15, 7, 48, 9, 2, 2, 504, 6, 258, 6, 272, 11, 15, 22, 134, 44, 11, 15, 16, 8, 197, 2, 90, 67, 52, 29, 209, 30, 32, 132, 6, 109, 15, 17, 12]\n",
      "Epoch 1/20\n",
      "90/90 [==============================] - 6s 61ms/step - loss: 2.5777 - accuracy: 0.3497 - val_loss: 2.1698 - val_accuracy: 0.4488\n",
      "Epoch 2/20\n",
      "90/90 [==============================] - 5s 55ms/step - loss: 2.0364 - accuracy: 0.4905 - val_loss: 1.9459 - val_accuracy: 0.5129\n",
      "Epoch 3/20\n",
      "90/90 [==============================] - 5s 55ms/step - loss: 1.8524 - accuracy: 0.5218 - val_loss: 1.7821 - val_accuracy: 0.5414\n",
      "Epoch 4/20\n",
      "90/90 [==============================] - 5s 55ms/step - loss: 1.7352 - accuracy: 0.5459 - val_loss: 1.7100 - val_accuracy: 0.5632\n",
      "Epoch 5/20\n",
      "90/90 [==============================] - 5s 55ms/step - loss: 1.6565 - accuracy: 0.5787 - val_loss: 1.6953 - val_accuracy: 0.5708\n",
      "Epoch 6/20\n",
      "90/90 [==============================] - 5s 54ms/step - loss: 1.6240 - accuracy: 0.5871 - val_loss: 1.6271 - val_accuracy: 0.6077\n",
      "Epoch 7/20\n",
      "90/90 [==============================] - 5s 54ms/step - loss: 1.4980 - accuracy: 0.6255 - val_loss: 1.5239 - val_accuracy: 0.6224\n",
      "Epoch 8/20\n",
      "90/90 [==============================] - 5s 55ms/step - loss: 1.4203 - accuracy: 0.6432 - val_loss: 1.5519 - val_accuracy: 0.6033\n",
      "Epoch 9/20\n",
      "90/90 [==============================] - 5s 54ms/step - loss: 1.3015 - accuracy: 0.6716 - val_loss: 1.3827 - val_accuracy: 0.6536\n",
      "Epoch 10/20\n",
      "90/90 [==============================] - 5s 54ms/step - loss: 1.2075 - accuracy: 0.6914 - val_loss: 1.3270 - val_accuracy: 0.6589\n",
      "Epoch 11/20\n",
      "90/90 [==============================] - 5s 54ms/step - loss: 1.1479 - accuracy: 0.7074 - val_loss: 1.3042 - val_accuracy: 0.6750\n",
      "Epoch 12/20\n",
      "90/90 [==============================] - 5s 54ms/step - loss: 1.0828 - accuracy: 0.7247 - val_loss: 1.2632 - val_accuracy: 0.6861\n",
      "Epoch 13/20\n",
      "90/90 [==============================] - 5s 54ms/step - loss: 1.0470 - accuracy: 0.7346 - val_loss: 1.2429 - val_accuracy: 0.6808\n",
      "Epoch 14/20\n",
      "90/90 [==============================] - 5s 54ms/step - loss: 0.9947 - accuracy: 0.7460 - val_loss: 1.2116 - val_accuracy: 0.6963\n",
      "Epoch 15/20\n",
      "90/90 [==============================] - 5s 54ms/step - loss: 0.9502 - accuracy: 0.7581 - val_loss: 1.2194 - val_accuracy: 0.7035\n",
      "Epoch 16/20\n",
      "90/90 [==============================] - 5s 54ms/step - loss: 0.9042 - accuracy: 0.7693 - val_loss: 1.1997 - val_accuracy: 0.7035\n",
      "Epoch 17/20\n",
      "90/90 [==============================] - 5s 54ms/step - loss: 0.8581 - accuracy: 0.7833 - val_loss: 1.1801 - val_accuracy: 0.7128\n",
      "Epoch 18/20\n",
      "90/90 [==============================] - 5s 56ms/step - loss: 0.8226 - accuracy: 0.7926 - val_loss: 1.1854 - val_accuracy: 0.7119\n",
      "Epoch 19/20\n",
      "90/90 [==============================] - 5s 57ms/step - loss: 0.7920 - accuracy: 0.8004 - val_loss: 1.1922 - val_accuracy: 0.7119\n",
      "Epoch 20/20\n",
      "90/90 [==============================] - 5s 56ms/step - loss: 0.7471 - accuracy: 0.8117 - val_loss: 1.2206 - val_accuracy: 0.7124\n",
      "71/71 [==============================] - 1s 7ms/step - loss: 1.2206 - accuracy: 0.7124\n",
      "\n",
      " Test Accuracy: 0.7123775482177734\n"
     ]
    }
   ],
   "source": [
    "from keras.datasets import reuters\n",
    "from keras.preprocessing import sequence\n",
    "from keras.utils import np_utils\n",
    "from keras.models import Sequential\n",
    "from keras.layers import Dense, LSTM, Embedding\n",
    "\n",
    "import numpy as np\n",
    "import tensorflow as tf\n",
    "import matplotlib.pyplot as plt\n",
    "\n",
    "seed = 0 \n",
    "np.random.seed(seed)\n",
    "tf.random.set_seed(3)\n",
    "#불러온 데이터를 학습셋과 테스트셋으로 나누기\n",
    "(X_train, Y_train),(X_test, Y_test) = reuters.load_data(num_words=1000, test_split=0.2)\n",
    "\n",
    "category = np.max(Y_train) + 1\n",
    "print(category, '카테고리')\n",
    "print(len(X_train), '학습용 뉴스 기사')\n",
    "print(len(X_test), '테스트용 뉴스 기사')\n",
    "print(X_train[0])\n",
    "\n",
    "#데이터 전처리 maxlen은 단어 수를 100개로 맞추라는 의미 \n",
    "#100개 보다 많으면 나머지는 버리고, 100개 보다 적으면 0으로 채워 넣는다.\n",
    "#인공지능 학습을 위해선 데이터 형이 동일해야 하기 때문에 진행하는 전처리 과정이다.\n",
    "x_train = sequence.pad_sequences(X_train, maxlen=100)\n",
    "x_test = sequence.pad_sequences(X_test, maxlen=100)\n",
    "\n",
    "#카테고리를 나타내는 결과값들에는 원한 인코딩 처리를 하여 전처리 과정을 마친다.\n",
    "y_train = np_utils.to_categorical(Y_train)\n",
    "y_test = np_utils.to_categorical(Y_test)\n",
    "\n",
    "model = Sequential()\n",
    "model.add(Embedding(1000, 100))\n",
    "model.add(LSTM(100, activation='tanh'))\n",
    "model.add(Dense(46, activation='softmax'))\n",
    "\n",
    "model.compile(loss='categorical_crossentropy',\n",
    "              optimizer='adam',\n",
    "              metrics=['accuracy'])\n",
    "\n",
    "history = model.fit(x_train, y_train, batch_size=100, epochs=20, validation_data=(x_test,y_test))\n",
    "\n",
    "print(f\"\\n Test Accuracy: {model.evaluate(x_test, y_test)[1]}\")\n"
   ]
  },
  {
   "cell_type": "code",
   "execution_count": 14,
   "id": "650ae2ca",
   "metadata": {},
   "outputs": [
    {
     "data": {
      "image/png": "[encoded data removed]",
      "text/plain": [
       "<Figure size 432x288 with 1 Axes>"
      ]
     },
     "metadata": {
      "needs_background": "light"
     },
     "output_type": "display_data"
    }
   ],
   "source": [
    "\n",
    "y_vloss = history.history['val_loss']\n",
    "\n",
    "y_loss = history.history['loss']\n",
    "\n",
    "x_len = np.arange(len(y_loss))\n",
    "plt.plot(x_len, y_vloss, marker = '.', c='red', label='Testset_loss')\n",
    "plt.plot(x_len, y_loss, marker = '.', c='blue', label='Trainset_loss')\n",
    "\n",
    "plt.legend(loc='upper right')\n",
    "plt.grid()\n",
    "plt.xlabel('epoch')\n",
    "plt.ylabel('loss')\n",
    "plt.show()"
   ]
  },
  {
   "cell_type": "code",
   "execution_count": null,
   "id": "930ac247",
   "metadata": {},
   "outputs": [],
   "source": []
  }
 ],
 "metadata": {
  "kernelspec": {
   "display_name": "Python 3 (ipykernel)",
   "language": "python",
   "name": "python3"
  },
  "language_info": {
   "codemirror_mode": {
    "name": "ipython",
    "version": 3
   },
   "file_extension": ".py",
   "mimetype": "text/x-python",
   "name": "python",
   "nbconvert_exporter": "python",
   "pygments_lexer": "ipython3",
   "version": "3.9.7"
  }
 },
 "nbformat": 4,
 "nbformat_minor": 5
}
