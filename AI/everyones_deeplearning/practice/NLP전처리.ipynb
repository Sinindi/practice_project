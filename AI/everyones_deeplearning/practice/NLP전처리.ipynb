{
 "cells": [
  {
   "cell_type": "code",
   "execution_count": 18,
   "id": "522422c8",
   "metadata": {},
   "outputs": [
    {
     "name": "stdout",
     "output_type": "stream",
     "text": [
      "['해보지', '않으면', '해낼', '수', '없다']\n"
     ]
    }
   ],
   "source": [
    "from tensorflow.keras.preprocessing.text import text_to_word_sequence\n",
    "\n",
    "#문장을 단어 단위로 쪼개는 함수 text_to_word_sequence\n",
    "text = '해보지 않으면 해낼 수 없다'\n",
    "result = text_to_word_sequence(text)\n",
    "print(result)"
   ]
  },
  {
   "cell_type": "code",
   "execution_count": 23,
   "id": "a6bf8bfc",
   "metadata": {},
   "outputs": [
    {
     "name": "stdout",
     "output_type": "stream",
     "text": [
      "OrderedDict([('먼저', 1), ('텍스트의', 2), ('각', 1), ('단어를', 1), ('나누어', 1), ('토큰화합니다', 1), ('단어로', 1), ('토큰화해야', 1), ('딥러닝에서', 2), ('인식됩니다', 1), ('토큰화한', 1), ('결과는', 1), ('사용할', 1), ('수', 1), ('있습니다', 1)])\n",
      "3\n",
      "defaultdict(<class 'int'>, {'각': 1, '먼저': 1, '단어를': 1, '텍스트의': 2, '토큰화합니다': 1, '나누어': 1, '인식됩니다': 1, '단어로': 1, '딥러닝에서': 2, '토큰화해야': 1, '있습니다': 1, '사용할': 1, '수': 1, '토큰화한': 1, '결과는': 1})\n",
      "{'텍스트의': 1, '딥러닝에서': 2, '먼저': 3, '각': 4, '단어를': 5, '나누어': 6, '토큰화합니다': 7, '단어로': 8, '토큰화해야': 9, '인식됩니다': 10, '토큰화한': 11, '결과는': 12, '사용할': 13, '수': 14, '있습니다': 15}\n"
     ]
    }
   ],
   "source": [
    "from tensorflow.keras.preprocessing.text import Tokenizer\n",
    "\n",
    "#텍스트를 쪼갠 후 몇번이나 동일한 단어가 나왔는지 확인하는 함수 \n",
    "docs = ['먼저 텍스트의 각 단어를 나누어 토큰화합니다.',\n",
    "        '텍스트의 단어로 토큰화해야 딥러닝에서 인식됩니다.',\n",
    "        '토큰화한 결과는 딥러닝에서 사용할 수 있습니다.']\n",
    "\n",
    "token = Tokenizer() # 토큰화 함수 지정\n",
    "token.fit_on_texts(docs) #토큰화 함수에 문장 적용\n",
    "print(token.word_counts) #단ㄴ어의 빈도 수를 계산한 결과 출력\n",
    "print(token.document_count) #몇개의 문장이 들어있는지를 셀 수 있다.\n",
    "print(token.word_docs)#각 단어들이 몇개의 문장에 나오는지 세어서 출력, 출력되는 순서는 랜덤\n",
    "print(token.word_index)#각 단어에 매겨진 인덱스 값을 출력ㄴ"
   ]
  },
  {
   "cell_type": "code",
   "execution_count": 54,
   "id": "cabcd267",
   "metadata": {},
   "outputs": [
    {
     "name": "stdout",
     "output_type": "stream",
     "text": [
      "{'오랫동안': 1, '꿈꾸는': 2, '이는': 3, '그': 4, '꿈을': 5, '닮아간다': 6}\n",
      "[[1, 2, 3, 4, 5, 6]]\n",
      "[0. 1. 0. 0. 0. 0. 0.]   오랫동안\n",
      "[0. 0. 1. 0. 0. 0. 0.]   꿈꾸는\n",
      "[0. 0. 0. 1. 0. 0. 0.]   이는\n",
      "[0. 0. 0. 0. 1. 0. 0.]   그\n",
      "[0. 0. 0. 0. 0. 1. 0.]   꿈을\n",
      "[0. 0. 0. 0. 0. 0. 1.]   닮아간다\n"
     ]
    }
   ],
   "source": [
    "from tensorflow.keras.preprocessing.text import Tokenizer\n",
    "from keras.utils import np_utils\n",
    "\n",
    "text = \"오랫동안 꿈꾸는 이는 그 꿈을 닮아간다.\"\n",
    "result = text_to_word_sequence(text)\n",
    "#문장을 토큰화\n",
    "token = Tokenizer()\n",
    "token.fit_on_texts([text])\n",
    "print(token.word_index) \n",
    "\n",
    "#토큰화 한 단어들을 인덱스로 출력\n",
    "x = token.texts_to_sequences([text])\n",
    "print(x)\n",
    "\n",
    "#단어들의 인덱스를 원-핫 인코딩\n",
    "word_size = len(token.word_index) + 1\n",
    "x = np_utils.to_categorical(x, num_classes = word_size)\n",
    "\n",
    "for i in  range(0,word_size-1):\n",
    "    print(f\"{x[0][i]}   {result[i]}\")"
   ]
  }
 ],
 "metadata": {
  "kernelspec": {
   "display_name": "Python 3 (ipykernel)",
   "language": "python",
   "name": "python3"
  },
  "language_info": {
   "codemirror_mode": {
    "name": "ipython",
    "version": 3
   },
   "file_extension": ".py",
   "mimetype": "text/x-python",
   "name": "python",
   "nbconvert_exporter": "python",
   "pygments_lexer": "ipython3",
   "version": "3.9.7"
  }
 },
 "nbformat": 4,
 "nbformat_minor": 5
}
