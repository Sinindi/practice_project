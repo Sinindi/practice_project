{
 "cells": [
  {
   "cell_type": "code",
   "execution_count": 4,
   "id": "6825b72f",
   "metadata": {},
   "outputs": [
    {
     "name": "stdout",
     "output_type": "stream",
     "text": [
      "Model: \"sequential_2\"\n",
      "_________________________________________________________________\n",
      " Layer (type)                Output Shape              Param #   \n",
      "=================================================================\n",
      " embedding_2 (Embedding)     (None, None, 100)         500000    \n",
      "                                                                 \n",
      " dropout_2 (Dropout)         (None, None, 100)         0         \n",
      "                                                                 \n",
      " conv1d_2 (Conv1D)           (None, None, 64)          32064     \n",
      "                                                                 \n",
      " max_pooling1d_1 (MaxPooling  (None, None, 64)         0         \n",
      " 1D)                                                             \n",
      "                                                                 \n",
      " lstm (LSTM)                 (None, 55)                26400     \n",
      "                                                                 \n",
      " dense (Dense)               (None, 1)                 56        \n",
      "                                                                 \n",
      " activation (Activation)     (None, 1)                 0         \n",
      "                                                                 \n",
      "=================================================================\n",
      "Total params: 558,520\n",
      "Trainable params: 558,520\n",
      "Non-trainable params: 0\n",
      "_________________________________________________________________\n",
      "Epoch 1/5\n",
      "25/25 [==============================] - 5s 157ms/step - loss: 0.6719 - accuracy: 0.6012 - val_loss: 0.5757 - val_accuracy: 0.7196\n",
      "Epoch 2/5\n",
      "25/25 [==============================] - 4s 145ms/step - loss: 0.4454 - accuracy: 0.7886 - val_loss: 0.3744 - val_accuracy: 0.8352\n",
      "Epoch 3/5\n",
      "25/25 [==============================] - 4s 147ms/step - loss: 0.3205 - accuracy: 0.8619 - val_loss: 0.3428 - val_accuracy: 0.8475\n",
      "Epoch 4/5\n",
      "25/25 [==============================] - 4s 147ms/step - loss: 0.2805 - accuracy: 0.8859 - val_loss: 0.3393 - val_accuracy: 0.8520\n",
      "Epoch 5/5\n",
      "25/25 [==============================] - 4s 148ms/step - loss: 0.2543 - accuracy: 0.8985 - val_loss: 0.3462 - val_accuracy: 0.8499\n",
      "\n",
      " Test Accuracy: {model.evaluate(x_test, y_test)[1]:.4f}\n"
     ]
    },
    {
     "data": {
      "image/png": "[encoded data removed]",
      "text/plain": [
       "<Figure size 432x288 with 1 Axes>"
      ]
     },
     "metadata": {
      "needs_background": "light"
     },
     "output_type": "display_data"
    }
   ],
   "source": [
    "from keras.preprocessing import sequence\n",
    "from keras.models import Sequential\n",
    "from keras.layers import Dense, Dropout, Activation\n",
    "from keras.layers import Embedding\n",
    "from keras.layers import LSTM\n",
    "from keras.layers import Conv1D, MaxPooling1D\n",
    "from keras.datasets import imdb\n",
    "\n",
    "\n",
    "import numpy as np\n",
    "import tensorflow as tf\n",
    "import matplotlib.pyplot as plt\n",
    "\n",
    "seed = 0 \n",
    "np.random.seed(seed)\n",
    "tf.random.set_seed(3)\n",
    "\"\"\"\n",
    "학습셋과 테스트셋을 지정할때, 빈도가 비정상적이게 높은 단어를 제외하기우해\n",
    "num_words = 5000을 할당하여 빈도가 1~5000사이의 단어만을 데이터로 사용한다고 선언하는 부분이다.\n",
    "\"\"\"\n",
    "(x_train,y_train),(x_test,y_test) = imdb.load_data(num_words=5000)\n",
    "\n",
    "#데이터 전처리\n",
    "x_train = sequence.pad_sequences(x_train, maxlen=100)\n",
    "x_test = sequence.pad_sequences(x_test, maxlen=100)\n",
    "\n",
    "model = Sequential()\n",
    "model.add(Embedding(5000, 100))\n",
    "model.add(Dropout(0.5))\n",
    "model.add(Conv1D(64,5,padding='valid', activation='relu', strides=1))\n",
    "model.add(MaxPooling1D(pool_size=4))\n",
    "model.add(LSTM(55))\n",
    "model.add(Dense(1))\n",
    "model.add(Activation('sigmoid'))\n",
    "model.summary()\n",
    "\n",
    "model.compile(loss='binary_crossentropy',\n",
    "              optimizer='adam',\n",
    "              metrics=['accuracy'])\n",
    "\n",
    "history  = model.fit(x_train, y_train, batch_size=1000, epochs=5,validation_data=(x_test,y_test))\n",
    "\n",
    "print(\"\\n Test Accuracy: {model.evaluate(x_test, y_test)[1]:.4f}\")\n",
    "\n",
    "y_vloss = history.history['val_loss']\n",
    "\n",
    "y_loss = history.history['loss']\n",
    "\n",
    "x_len = np.arange(len(y_loss))\n",
    "plt.plot(x_len, y_vloss, marker='.', c=\"red\", label='Testset_loss')\n",
    "plt.plot(x_len, y_loss, marker='.', c=\"blue\", label='Trainset_loss')\n",
    "\n",
    "plt.legend(loc='upper right')\n",
    "plt.grid()\n",
    "plt.xlabel('epoch')\n",
    "plt.ylabel('loss')\n",
    "plt.show()"
   ]
  }
 ],
 "metadata": {
  "kernelspec": {
   "display_name": "Python 3 (ipykernel)",
   "language": "python",
   "name": "python3"
  },
  "language_info": {
   "codemirror_mode": {
    "name": "ipython",
    "version": 3
   },
   "file_extension": ".py",
   "mimetype": "text/x-python",
   "name": "python",
   "nbconvert_exporter": "python",
   "pygments_lexer": "ipython3",
   "version": "3.9.7"
  }
 },
 "nbformat": 4,
 "nbformat_minor": 5
}
