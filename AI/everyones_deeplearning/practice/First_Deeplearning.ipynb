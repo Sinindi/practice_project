{
 "cells": [
  {
   "cell_type": "code",
   "execution_count": 2,
   "id": "d03592ae",
   "metadata": {},
   "outputs": [
    {
     "name": "stdout",
     "output_type": "stream",
     "text": [
      "(470, 18)\n",
      "(470, 17)\n",
      "(470,)\n",
      "1.0\n"
     ]
    }
   ],
   "source": [
    "# -*- coding: utf-8 -*-\n",
    "# 코드 내부에 한글을 사용가능 하게 해주는 부분입니다.\n",
    "\n",
    "# 딥러닝을 구동하는 데 필요한 케라스 함수를 불러옵니다.\n",
    "from tensorflow.keras.models import Sequential\n",
    "from tensorflow.keras.layers import Dense\n",
    "\n",
    "# 필요한 라이브러리를 불러옵니다.\n",
    "import numpy as np\n",
    "import tensorflow as tf\n",
    "\n",
    "# 실행할 때마다 같은 결과를 출력하기 위해 설정하는 부분입니다.\n",
    "np.random.seed(3)\n",
    "tf.random.set_seed(3)\n",
    "\n",
    "# 준비된 수술 환자 데이터를 불러들입니다.\n",
    "Data_set = np.loadtxt(\"../dataset/ThoraricSurgery.csv\", delimiter=\",\")\n",
    "\n",
    "# 환자의 기록과 수술 결과를 X와 Y로 구분하여 저장합니다.\n",
    "X = Data_set[:,0:17]\n",
    "Y = Data_set[:,17]\n",
    "print(Data_set.shape)\n",
    "print(X.shape)\n",
    "print(Y.shape)\n",
    "\n",
    "# 딥러닝 구조를 결정합니다(모델을 설정하고 실행하는 부분입니다).\n",
    "#model = Sequential()#층을 쌓기 전에 사용하는 함수\n",
    "# 노드 30개, 입력되는 데이터 수 17개, 활성화 함수 relu\n",
    "#model.add(Dense(30, input_dim=17, activation='relu'))\n",
    "#노드 1개 활성화 함수 sigmoid, sigmoid함수는 0 or 1의 결과 값을 나타낼때 자주 사용되는 활성화 함수이다.\n",
    "#model.add(Dense(1, activation='sigmoid'))\n",
    "#dense는 층의 상세 정보를 지정할때 사용하는 함수\n",
    "#node의 개수, 입력값의 개수(input_dim),activation은 사용할 활성화 함수를 지정 \n",
    "\n",
    "# 딥러닝을 실행합니다.\n",
    "#model.compile(loss='binary_crossentropy', optimizer='adam', metrics=['accuracy'])\n",
    "#model.compile은 딥러닝을 실행할때 사용하는 함수\n",
    "#loss는 오차 함수 , optimizer는 사용할 경사하강법의 종류, metrics는  과적합문제를 방지하게하기 위한 기능이다.\n",
    "#model.fit(X, Y, epochs=100, batch_size=10)\n",
    "#epochs는 각샘플이 처음부터 끝까지 100번 재사용될때까지 실행을 반복\n",
    "#batch_size는 샘플을 한번에 몇 개씩 처리할지를 정하는 부분 너무 크면 학습 속도가 느려지고 너무 작으면 각 실행 값의 편차가 생긴다"
   ]
  },
  {
   "cell_type": "code",
   "execution_count": null,
   "id": "390331ce",
   "metadata": {},
   "outputs": [],
   "source": []
  }
 ],
 "metadata": {
  "kernelspec": {
   "display_name": "Python 3 (ipykernel)",
   "language": "python",
   "name": "python3"
  },
  "language_info": {
   "codemirror_mode": {
    "name": "ipython",
    "version": 3
   },
   "file_extension": ".py",
   "mimetype": "text/x-python",
   "name": "python",
   "nbconvert_exporter": "python",
   "pygments_lexer": "ipython3",
   "version": "3.9.7"
  }
 },
 "nbformat": 4,
 "nbformat_minor": 5
}
