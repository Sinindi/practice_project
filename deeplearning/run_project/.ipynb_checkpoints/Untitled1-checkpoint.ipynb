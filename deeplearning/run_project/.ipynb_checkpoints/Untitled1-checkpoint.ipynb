{
 "cells": [
  {
   "cell_type": "code",
   "execution_count": 9,
   "id": "f6e8bd31",
   "metadata": {},
   "outputs": [
    {
     "data": {
      "text/plain": [
       "(-0.1, 1.1)"
      ]
     },
     "execution_count": 9,
     "metadata": {},
     "output_type": "execute_result"
    },
    {
     "data": {
      "image/png": "[encoded data removed]",
      "text/plain": [
       "<Figure size 432x288 with 1 Axes>"
      ]
     },
     "metadata": {
      "needs_background": "light"
     },
     "output_type": "display_data"
    }
   ],
   "source": [
    "import numpy as np\n",
    "import pandas as pd \n",
    "import matplotlib.pyplot as plt\n",
    "\n",
    "data = [[2,0], [4,0],[6,0],[8,1],[10,1],[12,1],[14,1]]\n",
    "\n",
    "x = [i[0] for i in data]\n",
    "y = [i[1] for i in data]\n",
    "\n",
    "plt.scatter(x,y)\n",
    "plt.xlim(0,15)\n",
    "plt.ylim(-.1,1.1)\n",
    "\n",
    "\n"
   ]
  },
  {
   "cell_type": "code",
   "execution_count": 13,
   "id": "ebe01945",
   "metadata": {},
   "outputs": [
    {
     "name": "stdout",
     "output_type": "stream",
     "text": [
      "epoch=0, 기울기=-0.0500, 절편=-0.0250\n",
      "epoch=0, 기울기=-0.1388, 절편=-0.0472\n",
      "epoch=0, 기울기=-0.2268, 절편=-0.0619\n",
      "epoch=0, 기울기=-0.2481, 절편=-0.0185\n",
      "epoch=0, 기울기=-0.2628, 절편=0.0277\n",
      "epoch=0, 기울기=-0.2723, 절편=0.0756\n",
      "epoch=0, 기울기=-0.2784, 절편=0.1244\n",
      "epoch=100, 기울기=-7.6280, 절편=16.4030\n",
      "epoch=100, 기울기=-7.6280, 절편=16.4030\n",
      "epoch=100, 기울기=-7.6280, 절편=16.4030\n",
      "epoch=100, 기울기=-7.6280, 절편=16.4530\n",
      "epoch=100, 기울기=-7.6280, 절편=16.5030\n",
      "epoch=100, 기울기=-7.6280, 절편=16.5530\n",
      "epoch=100, 기울기=-7.6280, 절편=16.6030\n",
      "epoch=200, 기울기=-15.6125, 절편=32.4107\n",
      "epoch=200, 기울기=-15.6125, 절편=32.4107\n",
      "epoch=200, 기울기=-15.6125, 절편=32.4107\n",
      "epoch=200, 기울기=-15.6125, 절편=32.4607\n",
      "epoch=200, 기울기=-15.6125, 절편=32.5107\n",
      "epoch=200, 기울기=-15.6125, 절편=32.5607\n",
      "epoch=200, 기울기=-15.6125, 절편=32.6107\n",
      "epoch=300, 기울기=-23.6123, 절편=48.4109\n",
      "epoch=300, 기울기=-23.6123, 절편=48.4109\n",
      "epoch=300, 기울기=-23.6123, 절편=48.4109\n",
      "epoch=300, 기울기=-23.6123, 절편=48.4609\n",
      "epoch=300, 기울기=-23.6123, 절편=48.5109\n",
      "epoch=300, 기울기=-23.6123, 절편=48.5609\n",
      "epoch=300, 기울기=-23.6123, 절편=48.6109\n",
      "epoch=400, 기울기=-31.6123, 절편=64.4109\n",
      "epoch=400, 기울기=-31.6123, 절편=64.4109\n",
      "epoch=400, 기울기=-31.6123, 절편=64.4109\n",
      "epoch=400, 기울기=-31.6123, 절편=64.4609\n",
      "epoch=400, 기울기=-31.6123, 절편=64.5109\n",
      "epoch=400, 기울기=-31.6123, 절편=64.5609\n",
      "epoch=400, 기울기=-31.6123, 절편=64.6109\n",
      "epoch=500, 기울기=-39.6123, 절편=80.4109\n",
      "epoch=500, 기울기=-39.6123, 절편=80.4109\n",
      "epoch=500, 기울기=-39.6123, 절편=80.4109\n",
      "epoch=500, 기울기=-39.6123, 절편=80.4609\n",
      "epoch=500, 기울기=-39.6123, 절편=80.5109\n",
      "epoch=500, 기울기=-39.6123, 절편=80.5609\n",
      "epoch=500, 기울기=-39.6123, 절편=80.6109\n",
      "epoch=600, 기울기=-47.6123, 절편=96.4109\n",
      "epoch=600, 기울기=-47.6123, 절편=96.4109\n",
      "epoch=600, 기울기=-47.6123, 절편=96.4109\n",
      "epoch=600, 기울기=-47.6123, 절편=96.4609\n",
      "epoch=600, 기울기=-47.6123, 절편=96.5109\n",
      "epoch=600, 기울기=-47.6123, 절편=96.5609\n",
      "epoch=600, 기울기=-47.6123, 절편=96.6109\n",
      "epoch=700, 기울기=-55.6123, 절편=112.4109\n",
      "epoch=700, 기울기=-55.6123, 절편=112.4109\n",
      "epoch=700, 기울기=-55.6123, 절편=112.4109\n",
      "epoch=700, 기울기=-55.6123, 절편=112.4609\n",
      "epoch=700, 기울기=-55.6123, 절편=112.5109\n",
      "epoch=700, 기울기=-55.6123, 절편=112.5609\n",
      "epoch=700, 기울기=-55.6123, 절편=112.6109\n"
     ]
    },
    {
     "ename": "OverflowError",
     "evalue": "(34, 'Result too large')",
     "output_type": "error",
     "traceback": [
      "\u001b[1;31m---------------------------------------------------------------------------\u001b[0m",
      "\u001b[1;31mOverflowError\u001b[0m                             Traceback (most recent call last)",
      "\u001b[1;32m~\\AppData\\Local\\Temp/ipykernel_6700/3965873391.py\u001b[0m in \u001b[0;36m<module>\u001b[1;34m\u001b[0m\n\u001b[0;32m      9\u001b[0m \u001b[1;32mfor\u001b[0m \u001b[0mi\u001b[0m \u001b[1;32min\u001b[0m \u001b[0mrange\u001b[0m\u001b[1;33m(\u001b[0m\u001b[1;36m2001\u001b[0m\u001b[1;33m)\u001b[0m\u001b[1;33m:\u001b[0m\u001b[1;33m\u001b[0m\u001b[1;33m\u001b[0m\u001b[0m\n\u001b[0;32m     10\u001b[0m     \u001b[1;32mfor\u001b[0m \u001b[0mx_data\u001b[0m\u001b[1;33m,\u001b[0m \u001b[0my_data\u001b[0m \u001b[1;32min\u001b[0m \u001b[0mdata\u001b[0m\u001b[1;33m:\u001b[0m\u001b[1;33m\u001b[0m\u001b[1;33m\u001b[0m\u001b[0m\n\u001b[1;32m---> 11\u001b[1;33m         \u001b[0ma_diff\u001b[0m \u001b[1;33m=\u001b[0m \u001b[0mx_data\u001b[0m\u001b[1;33m*\u001b[0m\u001b[0msigmoid\u001b[0m\u001b[1;33m(\u001b[0m\u001b[1;33m(\u001b[0m\u001b[0ma\u001b[0m\u001b[1;33m*\u001b[0m\u001b[0mx_data\u001b[0m\u001b[1;33m+\u001b[0m\u001b[0mb\u001b[0m\u001b[1;33m)\u001b[0m \u001b[1;33m-\u001b[0m \u001b[0my_data\u001b[0m\u001b[1;33m)\u001b[0m\u001b[1;33m\u001b[0m\u001b[1;33m\u001b[0m\u001b[0m\n\u001b[0m\u001b[0;32m     12\u001b[0m         \u001b[0mb_diff\u001b[0m \u001b[1;33m=\u001b[0m \u001b[0msigmoid\u001b[0m\u001b[1;33m(\u001b[0m\u001b[0ma\u001b[0m\u001b[1;33m*\u001b[0m\u001b[0mx_data\u001b[0m \u001b[1;33m+\u001b[0m\u001b[0mb\u001b[0m\u001b[1;33m)\u001b[0m \u001b[1;33m-\u001b[0m \u001b[0my_data\u001b[0m\u001b[1;33m\u001b[0m\u001b[1;33m\u001b[0m\u001b[0m\n\u001b[0;32m     13\u001b[0m         \u001b[0ma\u001b[0m\u001b[1;33m=\u001b[0m \u001b[0ma\u001b[0m \u001b[1;33m-\u001b[0m \u001b[0mlr\u001b[0m\u001b[1;33m*\u001b[0m\u001b[0ma_diff\u001b[0m\u001b[1;33m\u001b[0m\u001b[1;33m\u001b[0m\u001b[0m\n",
      "\u001b[1;32m~\\AppData\\Local\\Temp/ipykernel_6700/3965873391.py\u001b[0m in \u001b[0;36msigmoid\u001b[1;34m(x)\u001b[0m\n\u001b[0;32m      5\u001b[0m \u001b[1;33m\u001b[0m\u001b[0m\n\u001b[0;32m      6\u001b[0m \u001b[1;32mdef\u001b[0m \u001b[0msigmoid\u001b[0m\u001b[1;33m(\u001b[0m\u001b[0mx\u001b[0m\u001b[1;33m)\u001b[0m\u001b[1;33m:\u001b[0m\u001b[1;33m\u001b[0m\u001b[1;33m\u001b[0m\u001b[0m\n\u001b[1;32m----> 7\u001b[1;33m     \u001b[1;32mreturn\u001b[0m \u001b[1;36m1\u001b[0m \u001b[1;33m/\u001b[0m \u001b[1;33m(\u001b[0m\u001b[1;36m1\u001b[0m\u001b[1;33m+\u001b[0m\u001b[0mnp\u001b[0m\u001b[1;33m.\u001b[0m\u001b[0me\u001b[0m\u001b[1;33m**\u001b[0m\u001b[1;33m(\u001b[0m\u001b[1;33m-\u001b[0m\u001b[0mx\u001b[0m\u001b[1;33m)\u001b[0m\u001b[1;33m)\u001b[0m\u001b[1;33m\u001b[0m\u001b[1;33m\u001b[0m\u001b[0m\n\u001b[0m\u001b[0;32m      8\u001b[0m \u001b[1;33m\u001b[0m\u001b[0m\n\u001b[0;32m      9\u001b[0m \u001b[1;32mfor\u001b[0m \u001b[0mi\u001b[0m \u001b[1;32min\u001b[0m \u001b[0mrange\u001b[0m\u001b[1;33m(\u001b[0m\u001b[1;36m2001\u001b[0m\u001b[1;33m)\u001b[0m\u001b[1;33m:\u001b[0m\u001b[1;33m\u001b[0m\u001b[1;33m\u001b[0m\u001b[0m\n",
      "\u001b[1;31mOverflowError\u001b[0m: (34, 'Result too large')"
     ]
    }
   ],
   "source": [
    "a= 0\n",
    "b=0\n",
    "\n",
    "lr=0.05\n",
    "\n",
    "def sigmoid(x):\n",
    "    return 1 / (1+np.e**(-x))\n",
    "\n",
    "for i in range(2001):\n",
    "    for x_data, y_data in data:\n",
    "        a_diff = x_data*sigmoid((a*x_data+b) - y_data)\n",
    "        b_diff = sigmoid(a*x_data +b) - y_data\n",
    "        a= a - lr*a_diff\n",
    "        b = b - lr*b_diff\n",
    "        if i % 1000 == 0:\n",
    "            print(f\"epoch={i}, 기울기={a:.4f}, 절편={b:.4f}\")\n",
    "\n",
    "plt.scatter(x, y)\n",
    "plt.xlim(0,15)\n",
    "plt.ylim(-.1,1.1)\n",
    "x_range = (np.arange(0, 15, 0.1))\n",
    "plt.plot(x_range, np.array([sigmoid(a*x+b) for x in x_range]))\n",
    "plt.show()"
   ]
  },
  {
   "cell_type": "code",
   "execution_count": null,
   "id": "5158f27a",
   "metadata": {},
   "outputs": [],
   "source": []
  }
 ],
 "metadata": {
  "kernelspec": {
   "display_name": "Python 3 (ipykernel)",
   "language": "python",
   "name": "python3"
  },
  "language_info": {
   "codemirror_mode": {
    "name": "ipython",
    "version": 3
   },
   "file_extension": ".py",
   "mimetype": "text/x-python",
   "name": "python",
   "nbconvert_exporter": "python",
   "pygments_lexer": "ipython3",
   "version": "3.9.7"
  }
 },
 "nbformat": 4,
 "nbformat_minor": 5
}
